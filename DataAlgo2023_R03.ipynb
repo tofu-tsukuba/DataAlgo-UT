{
  "cells": [
    {
      "cell_type": "markdown",
      "metadata": {
        "colab_type": "text",
        "id": "view-in-github"
      },
      "source": [
        "<a href=\"https://colab.research.google.com/github/kameda-yoshinari/DataAlgo-UT/blob/main/DataAlgo2023_R03.ipynb\" target=\"_parent\"><img src=\"https://colab.research.google.com/assets/colab-badge.svg\" alt=\"Open In Colab\"/></a>"
      ]
    },
    {
      "attachments": {},
      "cell_type": "markdown",
      "metadata": {
        "id": "-SqpuNOEWS-a"
      },
      "source": [
        "# データ構造とアルゴリズム 第3週課題 (2023/05/01 ver.A)\n",
        "\n",
        "★下記３要素を**必ず直接書き換えてから**提出すること．\n",
        "\n",
        "* 学籍番号：20211212\n",
        "* 氏名：（ここに記入；例 筑波太郎）\n",
        "* Colabアカウント：（ここに記入；例 tsukuba.taro.xs@alumni.tsukuba.ac.jp）\n",
        "\n",
        "**学生同士で教えた・教わった・グループワークをした場合，必ず下記の当該行を直接書き換えて記述すること．**  \n",
        "申告があった場合は，論述などで内容が似ていたり，プログラムが似ていても減点はしない．（コピペレベルの同一文などは処罰対象）  \n",
        "**教えた側は加点対象となる．**\n",
        "\n",
        "**[教えた側]**  \n",
        "教えた相手：＜氏名＞　＜学籍番号＞  \n",
        "（何名いてもよい；教えた相手の内容が浅くなってないか確認すること）\n",
        "\n",
        "**[教わった側]**  \n",
        "教わった相手：＜氏名＞　＜学籍番号＞  \n",
        "（何名いてもよい；必ず教えた側に自分の名前を書いてもらうこと）\n",
        "\n",
        "**[グループワーク]**  \n",
        "一緒に行った相手：＜氏名＞　＜学籍番号＞  \n",
        "（何名いてもよいが，必ずお互いの名前を全員記すこと）\n"
      ]
    },
    {
      "cell_type": "markdown",
      "metadata": {
        "id": "GRWyrzY-jxwu"
      },
      "source": [
        "---\n",
        "# 必須課題3A \"Hello Foo\"\n",
        "\n",
        "コマンドライン引数（１単語）を引き取って，\"Hello Esys\"の\"ESYS\"部分に表示するようなCプログラムを作成・コンパイル・実行せよ．  \n",
        "そのために３つのコードセルを次のように使用すること．\n",
        "\n",
        "1. 一つ目のコードセルではソースコードの編集と保存\n",
        "2. 二つ目のコードセルではコンパイル\n",
        "3. 三つ目のコードセルでは実行\n",
        "\n",
        "いずれも実行結果の出力が付いた状態で提出すること．（2.はエラーがなければ出力無しでよい）\n",
        "\n"
      ]
    },
    {
      "cell_type": "code",
      "execution_count": null,
      "metadata": {
        "id": "vm6Yo9W2k-5U",
        "vscode": {
          "languageId": "python"
        }
      },
      "outputs": [],
      "source": [
        "#ソースコード"
      ]
    },
    {
      "cell_type": "code",
      "execution_count": null,
      "metadata": {
        "id": "yK0Ukzook_HP",
        "vscode": {
          "languageId": "python"
        }
      },
      "outputs": [],
      "source": [
        "#コンパイル"
      ]
    },
    {
      "cell_type": "code",
      "execution_count": null,
      "metadata": {
        "id": "pbNmPx7Dk_RV",
        "vscode": {
          "languageId": "python"
        }
      },
      "outputs": [],
      "source": [
        "#実行"
      ]
    },
    {
      "cell_type": "markdown",
      "metadata": {
        "id": "TjOgrYW8lAmy"
      },
      "source": [
        "---\n",
        "# 必須課題3B 幅優先探索アルゴリズムの自然言語記述\n",
        "\n",
        "DataAlgo2020-004(BFS)で示している幅優先探索アルゴリズムを，日本語で過不足なくかつ簡潔に記述せよ．\n",
        "\n",
        "* 本講義資料に即した説明であること．\n",
        "* （ChatGPT等に相談すると授業内容と異なることが多いので注意すること．これはこれ以降すべてに共通）\n",
        "* キューをどのように利用しているかを記述に含めること．\n",
        "* キューの図（自作に限る）も含めること．\n",
        "\n",
        "文章については，１つ目のテキストセルに入れること．\n",
        "図については，２つ目のテキストセルに入れること．\n",
        "\n",
        "図は直接の貼り込みでもよいし，Google Drive上の図形描画からのURLでもよい．\n"
      ]
    },
    {
      "cell_type": "markdown",
      "metadata": {
        "id": "mRLPlzcHmhiQ"
      },
      "source": [
        "（文章はここに記述）"
      ]
    },
    {
      "cell_type": "markdown",
      "metadata": {
        "id": "E_IyfH8BmhvY"
      },
      "source": [
        "（図はこちら）"
      ]
    },
    {
      "cell_type": "markdown",
      "metadata": {
        "id": "8NUVKBVvmvtw"
      },
      "source": [
        "---\n",
        "# 必須課題3C 幅優先探索アルゴリズムの計算量\n",
        "\n",
        "DataAlgoUT(004) BFSで示している幅優先探索アルゴリズムの空間計算量と時間計算量について議論せよ．  \n",
        "(授業内で言及していた内容をまとめるだけでよい）  \n",
        "（ChatGPT等に相談すると授業内での言及と異なる説明をしてくることが多いので鵜呑みにしないこと．これはこれ以降すべてに共通）  \n"
      ]
    },
    {
      "cell_type": "markdown",
      "metadata": {
        "id": "B9Z8A8xin-Ru"
      },
      "source": [
        "（議論はここに記述）"
      ]
    },
    {
      "cell_type": "markdown",
      "metadata": {
        "id": "NTFmAWpPnnaz"
      },
      "source": [
        "---\n",
        "# 発展課題3X queue使用量とその限界\n",
        "\n",
        "どのような無向で連結なグラフが指定されても，queueに必要な記憶領域が頂点数を超えないことを示せ．  \n",
        "また，どのような無向で連結なグラフが指定されると，queueの記憶使用量が（一時的に）最大となるか理由と共に示せ．  \n",
        "ここで最大とは，qheadとqtailが最大限離れる状況を指す．  \n",
        "つまり，どのようなグラフが来たら，待ち行列が最大限延びる（キューに溜る）か？という設問である．\n",
        "\n",
        "（余談だがではキューが最小になる，つまり全然待ち行列が延びないようなグラフは？という設問も当然ありえる．）\n"
      ]
    },
    {
      "cell_type": "markdown",
      "metadata": {
        "id": "ljT6EzOYnUZp"
      },
      "source": [
        "（議論はここに記述）"
      ]
    },
    {
      "cell_type": "markdown",
      "metadata": {
        "id": "c7rf54NjW5f2"
      },
      "source": [
        "---\n",
        "# 課題提出法 \n",
        "\n",
        "筑波大学工学システム学類３年生向け．  \n",
        "FG24711 / FG34711．  \n",
        "\n",
        "必須課題は全て実施すること．  \n",
        "発展課題はしなくともよいが，A+取得には発展課題を（全課題提出を通して）1つ以上実施していることが必要条件である．\n",
        "\n",
        "該当するmanabaに課題提出のエントリを設けるので，そこに本**Colab notebookを提出**すること．  \n",
        "\n",
        "\n",
        "# 出典\n",
        "\n",
        "筑波大学工学システム学類  \n",
        "データ構造とアルゴリズム  \n",
        "担当：亀田能成  \n",
        "\n"
      ]
    }
  ],
  "metadata": {
    "colab": {
      "authorship_tag": "ABX9TyMU6mMg1DVjqZbrGzd91bxd",
      "include_colab_link": true,
      "provenance": []
    },
    "kernelspec": {
      "display_name": "Python 3",
      "name": "python3"
    }
  },
  "nbformat": 4,
  "nbformat_minor": 0
}
