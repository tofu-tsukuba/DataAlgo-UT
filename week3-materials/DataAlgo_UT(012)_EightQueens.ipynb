{
  "nbformat": 4,
  "nbformat_minor": 0,
  "metadata": {
    "colab": {
      "name": "DataAlgo_UT(012)_EightQueens",
      "provenance": [],
      "collapsed_sections": [
        "yRmydXneMgT8",
        "4s3BWazcz1FB",
        "dd-hVe7gXiCk",
        "5QkNub1bXi1l",
        "DY_MbwoPf_9h",
        "cZ-1SycnqxVa"
      ],
      "authorship_tag": "ABX9TyMyd+YtcLA6hdhJn+2ltTNu",
      "include_colab_link": true
    },
    "kernelspec": {
      "name": "python3",
      "display_name": "Python 3"
    }
  },
  "cells": [
    {
      "cell_type": "markdown",
      "metadata": {
        "id": "view-in-github",
        "colab_type": "text"
      },
      "source": [
        "<a href=\"https://colab.research.google.com/github/kameda-yoshinari/DataAlgo-UT/blob/main/DataAlgo_UT(012)_EightQueens.ipynb\" target=\"_parent\"><img src=\"https://colab.research.google.com/assets/colab-badge.svg\" alt=\"Open In Colab\"/></a>"
      ]
    },
    {
      "cell_type": "markdown",
      "metadata": {
        "id": "yRmydXneMgT8"
      },
      "source": [
        "# 6.2.2. エイトクイーン (Eight queens)\n",
        "\n",
        "バックトラックの別の例として，エイトクィーン問題を取り上げる．\n",
        "\n",
        "\n",
        "**いつもの約束**  \n",
        "１つのコードセルだけの実行は Ctrl + Enter．  \n",
        "エディタで「インデント幅（スペース）は4で表示」「行番号を表示」「インデントガイドを表示」．  \n",
        "内部では日本語はUTF-8で表現されている．\n"
      ]
    },
    {
      "cell_type": "markdown",
      "metadata": {
        "id": "CdQdV_MJIlce"
      },
      "source": [
        "# 準備\n",
        "\n",
        "インスタンスに接続し起動する．  \n",
        "下記の手順でGoogle Driveをマウントする．  \n",
        "マウント先に移動し，作業フォルダとする．  \n",
        "これによって，インスタンスがリセットされてもGoogle Drive内にファイルが保存されるようにする．"
      ]
    },
    {
      "cell_type": "code",
      "metadata": {
        "id": "DMtqXRXJIPMR"
      },
      "source": [
        "!echo \"Google Driveをマウントします\"\n",
        "from google.colab import drive \n",
        "drive.mount('/content/drive')"
      ],
      "execution_count": null,
      "outputs": []
    },
    {
      "cell_type": "code",
      "metadata": {
        "id": "SABzmuELIaj2"
      },
      "source": [
        "!echo \"今回の作業用フォルダを作成しそこに移動します\"\n",
        "%cd /content/drive/My\\ Drive/\n",
        "%mkdir -p UT_DataAlgo/DA_012\n",
        "%cd       UT_DataAlgo/DA_012\n",
        "!ls\n",
        "!echo \"日本時間表示\"\n",
        "!rm /etc/localtime\n",
        "!ln -s /usr/share/zoneinfo/Japan /etc/localtime\n",
        "!date"
      ],
      "execution_count": null,
      "outputs": []
    },
    {
      "cell_type": "markdown",
      "metadata": {
        "id": "4s3BWazcz1FB"
      },
      "source": [
        "# エイトクィーン\n",
        "\n",
        "**問題**\n",
        "\n",
        "チェスの女王(queen)は縦横斜めに好きなだけ移動できる．  \n",
        "将棋で言えば飛車と角の両方を兼ね備える存在で，最も強力な駒とされる．  \n",
        "エイトクィーン問題とは，女王駒を8つ用意し，\n",
        "\n",
        "1. チェスの8x8の盤の中で\n",
        "2. お互いに取られない配置に\n",
        "3. 8女王を配置する\n",
        "\n",
        "ことができるかどうかを調べる問題である．\n",
        "\n",
        "より一般化して，NxNの盤を考え，N-Queens問題とすることも考えられる．\n",
        "\n",
        "\n"
      ]
    },
    {
      "cell_type": "markdown",
      "metadata": {
        "id": "dd-hVe7gXiCk"
      },
      "source": [
        "# 全解探索法\n",
        "\n",
        "盤上には駒を置けるマスが8<sup>2</sup>=64ある．そこに同じ8個の駒を置くので，組み合わせの数は <sub>64</sub>C<sub>8</sub>ということになる．  \n",
        "これがそのまま全解探索法での解候補と考えることができる．\n",
        "\n",
        "<sub>64</sub>C<sub>8</sub> = (64 x ... x 57) / (8 x ... x 1) = 4,426,165,368\n",
        "\n",
        "この解候補それぞれについて，「お互いに取られない位置に」あることを確認すればよい．\n"
      ]
    },
    {
      "cell_type": "markdown",
      "metadata": {
        "id": "5QkNub1bXi1l"
      },
      "source": [
        "# バックトラック法\n",
        "\n",
        "8つの女王を配置していく途中で，「チェスの8x8の盤の中で」「お互いに取られない配置」を満たせなくなった時点で，その先に解はない．\n",
        "\n",
        "女王は4直線方向に移動できる．これを，縦移動とそれ以外に分けて考える．\n",
        "\n",
        "縦移動によって取られることを防ぐために，8つの女王を各列に1つずつ置く．各列には8マスあるから，考え得る解候補は8<sup>8</sup>=16,777,216にまで減ることになる．\n",
        "\n",
        "横方向によって取られることを防ぐことまで考えると，考え得る解候補をさらに減らすことができる．  \n",
        "\n",
        "今，左端の列から配置を決定していくことにする．  \n",
        "次の列での女王を，過去に配置した女王のどれからも取られない位置に置けばよい．  \n",
        "どこに置いても取られてしまう場合はバックトラック（後戻り）することになる．\n",
        "\n"
      ]
    },
    {
      "cell_type": "markdown",
      "metadata": {
        "id": "Zy3sSTwQ7Nn9"
      },
      "source": [
        "# バックトラック法によるCプログラム\n",
        "\n",
        "**目標**\n",
        "\n",
        "NxNのチェスの盤におけるN-Queens問題を解くCプログラムを作成する．\n",
        "\n",
        "**説明**\n",
        "\n",
        "横方向と斜め2方向から取られることを防ぐため，それぞれその方向がすでにこれまでの女王によって占拠されていると考える．３方向で取られない位置にあることを確認するために，YY, RD(Right-Down), LD(Left-Down)という三つの配列を用いる．注目するマスに対応するこれらの配列要素がすべて空であれば，そのマスにクイーンを置くことはできることになる．逆に，注目するマスに対応するこれらの配列要素のどれか一つでもマーク済みであれば，すでに配置した女王によって今置こうとしている駒が取られることになるのでそのマスに女王を置くことはできない．（下図参照）\n",
        "\n",
        "バックトラック時に記録の削除（原状復元，つまりここでは空の状態表現に戻す）を行う．ただし，board[x]については元の値に意味がないので，原状復元に相当する部分が無い．\n",
        "\n",
        "\n",
        "**コード**\n",
        "\n",
        "横方向の占拠を表すのに必要な配列の大きさはNであるが，斜め2方向の占拠を表すのに必要な配列の大きさはそれぞれNではなく2N-1である．\n",
        "\n",
        "**備考**\n",
        "\n",
        "特になし．\n"
      ]
    },
    {
      "cell_type": "markdown",
      "metadata": {
        "id": "29-cyIbFHP_d"
      },
      "source": [
        "![eightqeens](https://user-images.githubusercontent.com/45651568/90338504-0fb2a880-e025-11ea-81b0-0a96c52e8b77.png)\n"
      ]
    },
    {
      "cell_type": "code",
      "metadata": {
        "id": "Eo2CM8EqZi97"
      },
      "source": [
        "%%writefile NQueens_J.c\n",
        "// N Queens, back track version\n",
        "//    kameda[ccs]tsukuba.ac.jp, 2020.\n",
        "#include <stdio.h>\n",
        "\n",
        "int n_answer = 0;\n",
        "\n",
        "#define N 8\n",
        "int rd[2*N-1]; // right-down direction checker\n",
        "int ld[2*N-1]; // left-down  direction checker\n",
        "int yy[N];     // Y-line checker\n",
        "int board[N]; // if a queen is at (X,Y), board[X]=Y\n",
        "\n",
        "// Counting the number of answers and display its layout\n",
        "void print_board(void){\n",
        "\tint x, y;\n",
        "\tprintf(\"Answer No. %d ==========\\n\", n_answer++);\n",
        "\tfor (y = 0; y < N; y++) {\n",
        "\t\tfor (x = 0; x < N; x++) \n",
        "\t\t\tprintf(\"%c\", board[y]==x ? 'Q' : '.');\n",
        "\t\tprintf(\"\\n\");\n",
        "\t}\n",
        "}\n",
        "\n",
        "// n queens are examined from X = 0 to n-1), now try to place a queen on X=x\n",
        "void placeaqueen(int x){\n",
        "\tint y;\n",
        "\n",
        "\t// Rearch to an answer\n",
        "\tif (x == N) {\n",
        "\t\tprint_board();\n",
        "\t\treturn;\n",
        "\t}\n",
        "\n",
        "\t// check all y's at X=x\n",
        "\tfor (y = 0; y < N; y++) {\n",
        "\t\tif (yy[y] == 0 && rd[x+y] == 0 && ld[x-y+N-1] == 0) {\n",
        "\t\t\tyy[y] =  1 ;  rd[x+y] =  1 ;  ld[x-y+N-1] =  1; // Mark / yy, rd, ld\n",
        "\t\t\tboard[x] = y;                                   // Mark / board\n",
        "\t\t\tplaceaqueen(x+1);\n",
        "\t\t\tyy[y] =  0 ;  rd[x+y] =  0 ;  ld[x-y+N-1] =  0; // Unmark / yy, rd, ld\n",
        "\t\t\t                                                // Unmark / board (actually nothing to do)\n",
        "\t\t}\n",
        "\t}\n",
        "}\n",
        "\n",
        "// Main function\n",
        "int main(int argc, char *argv[]){\n",
        "\tint x, d;\n",
        "\n",
        "\t// No queens there at the begining\n",
        "\tfor (x = 0; x < N; x++) {\n",
        "\t\tyy[x] = 0;\n",
        "\t}\n",
        "\tfor (d = 0; d < 2*N-1; d++) {\n",
        "\t\trd[d] = 0; \n",
        "\t\tld[d] = 0; \n",
        "\t}\n",
        "\n",
        "\tplaceaqueen(0); // Starting with X = 0\n",
        "\n",
        "\treturn 0;\n",
        "}\n"
      ],
      "execution_count": null,
      "outputs": []
    },
    {
      "cell_type": "markdown",
      "metadata": {
        "id": "zhechXUNbvva"
      },
      "source": [
        "\n",
        "コンパイルしてエラーが無いことを確認．"
      ]
    },
    {
      "cell_type": "code",
      "metadata": {
        "id": "UcFL-3AR8XSu"
      },
      "source": [
        "!gcc -Wall -o NQueens_J NQueens_J.c"
      ],
      "execution_count": null,
      "outputs": []
    },
    {
      "cell_type": "markdown",
      "metadata": {
        "id": "CxBI4UbEcB9L"
      },
      "source": [
        "実行．"
      ]
    },
    {
      "cell_type": "code",
      "metadata": {
        "id": "O3zzVD4tcA3h"
      },
      "source": [
        "!time ./NQueens_J"
      ],
      "execution_count": null,
      "outputs": []
    },
    {
      "cell_type": "markdown",
      "metadata": {
        "id": "DY_MbwoPf_9h"
      },
      "source": [
        "# 節末課題\n",
        "\n",
        "1. NQueens_Jの計算量  \n",
        "NQueens_J プログラムの時間計算量と空間計算量を議論せよ．盤は正方とし，その一辺のマスの数をNとする．\n",
        "\n",
        "2. 斜め方向の衝突判定  \n",
        "列xの行yに女王があるとき，右下がり(Right-Down)方向に取り合いになる（衝突し得る）女王はすべて x+y が同じになり，しかもその値が 0 から　2N-2 の間に収まることを示せ．同じく，左下がり(Left-Down)方向に取り合いになる（衝突し得る）女王はすべて x-y+N-1 が同じで，かつその値は 0 から 2N-2 までの間に収まることを示せ．なお，ここで右下がりとは，X軸正を右に，Y軸正を上に取った場合である．\n",
        "\n",
        "3. 解候補の必要条件の実装  \n",
        "NQueens_J プログラムにおいて，「チェスの8x8の盤の中で」「お互いに取られない配置に」「8女王を配置する」ことを確認している実装部分をそれぞれ示せ．\n",
        "\n",
        "\n",
        "\n",
        "\n"
      ]
    },
    {
      "cell_type": "markdown",
      "metadata": {
        "id": "cZ-1SycnqxVa"
      },
      "source": [
        "# 出典\n",
        "\n",
        "筑波大学工学システム学類  \n",
        "データ構造とアルゴリズム  \n",
        "担当：亀田能成  \n",
        "2022/05/31 文言修正  \n",
        "2022/04/13 フォルダ構成を更新  \n",
        "2021/06/09 初版"
      ]
    }
  ]
}