{
  "nbformat": 4,
  "nbformat_minor": 0,
  "metadata": {
    "colab": {
      "name": "DataAlgo_UT(009)_ShortestPathNN",
      "provenance": [],
      "collapsed_sections": [],
      "authorship_tag": "ABX9TyO7kso9l7axDqHlNM29BDYn",
      "include_colab_link": true
    },
    "kernelspec": {
      "name": "python3",
      "display_name": "Python 3"
    }
  },
  "cells": [
    {
      "cell_type": "markdown",
      "metadata": {
        "id": "view-in-github",
        "colab_type": "text"
      },
      "source": [
        "<a href=\"https://colab.research.google.com/github/kameda-yoshinari/DataAlgo-UT/blob/main/DataAlgo_UT(009)_ShortestPathNN.ipynb\" target=\"_parent\"><img src=\"https://colab.research.google.com/assets/colab-badge.svg\" alt=\"Open In Colab\"/></a>"
      ]
    },
    {
      "cell_type": "markdown",
      "metadata": {
        "id": "yRmydXneMgT8"
      },
      "source": [
        "# 4.3. Ｎ対Ｎの最短経路問題\n",
        "\n",
        "ここではグラフ中の任意の２頂点の間の最短経路問題とそれを解くFloydのアルゴリズムについて学ぶ．\n",
        "\n",
        "**いつもの約束**  \n",
        "１つのコードセルだけの実行は Ctrl + Enter．  \n",
        "エディタで「インデント幅（スペース）は4で表示」「行番号を表示」「インデントガイドを表示」．  \n",
        "挿入図は Google Colaboratory  以外では見れない可能性あり．  \n",
        "内部では日本語はUTF-8で表現されている．\n"
      ]
    },
    {
      "cell_type": "markdown",
      "metadata": {
        "id": "CdQdV_MJIlce"
      },
      "source": [
        "# 準備\n",
        "\n",
        "インスタンスに接続し起動する．  \n",
        "下記の手順でGoogle Driveをマウントする．  \n",
        "マウント先に移動し，作業フォルダとする．  \n",
        "これによって，インスタンスがリセットされてもGoogle Drive内にファイルが保存されるようにする．"
      ]
    },
    {
      "cell_type": "code",
      "metadata": {
        "id": "DMtqXRXJIPMR"
      },
      "source": [
        "!echo \"Google Driveをマウントします\"\n",
        "from google.colab import drive \n",
        "drive.mount('/content/drive')"
      ],
      "execution_count": null,
      "outputs": []
    },
    {
      "cell_type": "code",
      "metadata": {
        "id": "SABzmuELIaj2"
      },
      "source": [
        "!echo \"今回の作業用フォルダを作成しそこに移動します\"\n",
        "%cd /content/drive/My\\ Drive/\n",
        "%mkdir -p UT_DataAlgo/DA_009\n",
        "%cd       UT_DataAlgo/DA_009\n",
        "!ls\n",
        "!echo \"日本時間表示\"\n",
        "!rm /etc/localtime\n",
        "!ln -s /usr/share/zoneinfo/Japan /etc/localtime\n",
        "!date"
      ],
      "execution_count": null,
      "outputs": []
    },
    {
      "cell_type": "markdown",
      "metadata": {
        "id": "NINxYWNgOSaw"
      },
      "source": [
        "本節での説明には，4.2.節と同じくグラフ6を利用する．  \n",
        "頂点数は8．無向グラフ．重みは全て正．  \n",
        "自己ループ（ある頂点から同じ頂点への辺）の重みは 0 とする．  \n",
        "プログラムの解析用に，グラフ7, グラフ8も用意しておく．これらも4.2.節と同じである．\n",
        "\n"
      ]
    },
    {
      "cell_type": "markdown",
      "metadata": {
        "id": "tErWQzIr6Ttp"
      },
      "source": [
        "![008-GraphG6](https://user-images.githubusercontent.com/45651568/119325594-fc232500-bcbb-11eb-80b4-f25270057bad.png)\n"
      ]
    },
    {
      "cell_type": "code",
      "metadata": {
        "id": "rz4_9z4rOQu4"
      },
      "source": [
        "%%writefile graph6.h\n",
        "// 8 nodes, undirected, no loop, positive weight.\n",
        "// NC means no edges.\n",
        "// NC will be treated as \"inifinity\" on searching the shortest path. \n",
        "#define N 8\n",
        "#define NC 9999 // this big value means both no path and infinity \n",
        "int edge[N][N] = {\n",
        "//     0   1   2   3   4   5   6   7\n",
        "\t{  0,100, NC, NC,145,200, NC, NC}, // 0\n",
        "\t{100,  0, 23, NC, NC, 80, NC, 70}, // 1\n",
        "\t{ NC, 23,  0, 21, NC, 45, 37, NC}, // 2\n",
        "\t{ NC, NC, 21,  0, NC, NC, 18,  5}, // 3\n",
        "\t{145, NC, NC, NC,  0, 20, NC, NC}, // 4\n",
        "\t{200, 80, 45, NC, 20,  0,  2, NC}, // 5\n",
        "\t{ NC, NC, 37, 18, NC,  2,  0,  1}, // 6\n",
        "\t{ NC, 70, NC,  5, NC, NC,  1,  0}  // 7\n",
        "};"
      ],
      "execution_count": null,
      "outputs": []
    },
    {
      "cell_type": "code",
      "metadata": {
        "id": "68fKClFZFJW5"
      },
      "source": [
        "%%writefile graph7.h\n",
        "// 4 nodes, directed, positive weight.\n",
        "// NC means no edges.\n",
        "// NC will be treated as \"inifinity\" on searching the shortest path. \n",
        "#define N 4\n",
        "#define NC 9999 // this big value means no path\n",
        "int edge[N][N] = {\n",
        "//     0   1   2   3\n",
        "\t{  0, 10, NC, 40}, // 0\n",
        "\t{ NC,  0, NC, 20}, // 1\n",
        "\t{ NC, NC,  0, NC}, // 2\n",
        "\t{ NC, NC, NC,  0}, // 3\n",
        "};"
      ],
      "execution_count": null,
      "outputs": []
    },
    {
      "cell_type": "code",
      "metadata": {
        "id": "ZKMrM5a2OUv4"
      },
      "source": [
        "%%writefile graph8.h\n",
        "// 12 nodes, directed, positive weight.\n",
        "// NC means no edges.\n",
        "// NC will be treated as \"inifinity\" on searching the shortest path. \n",
        "#define N 12\n",
        "#define NC 9999 // this big value means no path\n",
        "int edge[N][N] = {\n",
        "    { 0, 4,NC,NC, 3,NC,NC,NC,NC,NC,NC,NC},\n",
        "    { 4, 0, 1,NC,NC,NC, 2,NC,NC,NC,NC,NC},\n",
        "    {NC, 1, 0, 1,NC,NC,NC, 2,NC,NC,NC,NC},\n",
        "    {NC,NC, 1, 0,NC,NC,NC,NC,NC,NC,NC,NC},\n",
        "    { 3,NC,NC,NC, 0, 1,NC,NC, 1,NC,NC,NC},\n",
        "    {NC,NC,NC,NC, 1, 0, 2,NC,NC, 2, 3,NC},\n",
        "    {NC, 2,NC,NC,NC, 2, 0,NC,NC,NC, 3,NC},\n",
        "    {NC,NC, 2,NC,NC,NC,NC, 0,NC,NC,NC,NC},\n",
        "    {NC,NC,NC,NC, 1,NC,NC,NC, 0,NC,NC,NC},\n",
        "    {NC,NC,NC,NC,NC, 2,NC,NC,NC, 0,NC,NC},\n",
        "    {NC,NC,NC,NC,NC, 3, 3,NC,NC,NC, 0, 1},\n",
        "    {NC,NC,NC,NC,NC,NC,NC,NC,NC,NC, 1, 0}\n",
        "};"
      ],
      "execution_count": null,
      "outputs": []
    },
    {
      "cell_type": "markdown",
      "metadata": {
        "id": "4s3BWazcz1FB"
      },
      "source": [
        "# Ｎ対Ｎの最短経路問題を解くfloydのアルゴリズム\n",
        "\n",
        "**内容**\n",
        "\n",
        "最短経路問題の内容については，4.2.節を参照すること．  \n",
        "\n",
        "**別解としてDijkstraのアルゴリズムの再利用**\n",
        "\n",
        "新しいアルゴリズムを用意する前に，単純な方法を考えてみよう．\n",
        "shortest_dijkstra プログラムを，開始頂点を1からNまで変えながら全て実行すれば解は得られるはずである．\n",
        "この考え方は実に率直で，しかもオーダー表現による議論では，後で説明する floydのアルゴリズムとも変わらない．\n",
        "\n",
        "ただ，floydのアルゴリズムは，これまたプログラミングスタイルとして（Diskstraのアルゴリズムと対極的に）劇的に洗練されている例なので，本授業で取り上げて説明する．（換言すれば人間からすれば最も理解しにくいアルゴリズムかもしれない．）\n",
        "\n",
        "**Floydのアルゴリズム**\n",
        "\n",
        "Ｎ対Ｎの最短経路問題を解くアルゴリズムとして，Floyd（フロイド）のアルゴリズムを学習する．\n",
        "\n",
        "Floydのアルゴリズムは，動的計画法(Dynamic programming)の１つとして知られる．\n",
        "\n",
        ">**（動的計画法）**\n",
        ">\n",
        ">動的計画法の詳細は本授業では省くが，簡単に言えば，下記のようになる．\n",
        ">\n",
        ">1. 元の問題を分割する\n",
        ">2. 分割した問題のそれぞれで解を求める\n",
        ">3. それぞれの問題と解をペアにして覚えておく．\n",
        ">4. 以降同じ問題が来たときは覚えておいた解を引用する（改めて解かない）\n",
        ">5. 上記1-4を可能な限り繰り返す．つまり，元問題を分割して用意した部分問題を解く際に，さらに分割した部分部分問題を解く，とする．\n",
        ">\n",
        ">残念ながら，日常生活で動的計画法を使った処理をヒトが思いつくことはほぼない．これは，動的計画法の立案には緻密な問題検討と解法の設計が必要であり，かつ多数の問題と解のペアを覚えておく必要があるからである．（人は多くのことを正確に覚えるのは苦手である）\n",
        ">\n",
        ">その代わり，がんばって動的計画法を立案できると，劇的なほどアルゴリズムが洗練され見通しがよくなり，多くの場合は実行時に様々な利点が得られることが多い．\n",
        ">\n",
        ">設計上の難点は，2.の分割を均等にしつつ，5.で再帰的に行えるようにできるか，である．\n",
        "\n",
        "Floydのアルゴリズムにおいて，核となる部分は実は単純である．  \n",
        "今，探索の途中にあるとし，頂点Aから頂点Bに至る（今までに見つかっている暫定最短）経路値を W(A,B) とする．  \n",
        "頂点A,B,Cについて， \n",
        "\n",
        "> W(A,C) + W(C,B) < W(A,B) \n",
        "\n",
        "が成立する，つまり頂点Cを経由したほうが経路値が小さくなるのなら， W(A,B) の値を W(A,C) + W(C,B) の値で更新する．  \n",
        "これを繰り返すだけである．\n",
        "\n",
        "問題は，これをいつどの順で行うのか，である．  \n",
        "上手な順番を思いつかないと，いつまで経っても答えが得られなかったり，下手をすると無駄な作業を繰り返してるかもしれない．\n",
        "\n",
        "Floydのアルゴリズムでは，この手順を，「経由してよい頂点を段階的に増やしていく」ことで実現する．  \n",
        "この１段１段が部分問題に相当する．  \n",
        "部分問題の解を覚えるのに配列を用いるが，これを巧みに使うことで，解を覚えておくのに必要な領域を極限まで小さくかつ簡潔な表現にしている．\n",
        "\n",
        "それでは実際のアルゴリズムを見てみよう．\n",
        "\n",
        "1. 全ての頂点対A,Bについて，AからBへの暫定経路値 W(A,B) を無限大とする．\n",
        "2. 全ての頂点対A,Bについて，隣接している（直行できる）場合のみ， W(A,B) を edge(A,B) の値で更新する．\n",
        "3. 新たに経由してもいい頂点kを１つ選ぶ．(実装では k = 0,1,2,3, ..., N-1 の順に選択）\n",
        "4. 全ての頂点対A,Bについて，W(A,K) + W(K,B) < W(A,B) のときのみ W(A,B) を W(A,K) + W(K,B) の値で更新する．\n",
        "5. 上記3.と4.を新たに経由してもいい頂点が無くなるまで繰り返す．\n",
        "\n",
        "グラフ6による実行の様子を次図に示す．\n",
        "\n",
        "ステップ2.が終わったところが「直通のみを認めた結果」である．\n",
        "各要素はSrc頂点からDst頂点へ至る経路の暫定最小経路値 W(Src,Dst) が入っている．\n",
        "\n",
        "次に，頂点0 を新たに経由頂点として認めることを考える．この時，\n",
        "\n",
        "* W(Src,Dst)\n",
        "* W(Src,0) + W(0, Dst)\n",
        "\n",
        "という二つの暫定経路値を比較し，更新した場合は桃色で表示している．\n",
        "このとき注意するべきなのは，頂点0から始発する経路と，頂点0に終着する経路は，その暫定最小経路値が変わるはずがないという事実である．  \n",
        "つまり，図において，太枠で囲まれた部分は，値の更新が絶対に発生しない．\n",
        "\n",
        "> 仙台と名古屋の間の出張を安く行くように考えている時，それまで直通出張しか許されなかったのが「東京も経由していいよ」と言われれば検討するが，「仙台を経由してもいいよ」と言われても仙台はそもそも出発地なので「何意味のないことを言ってるの？」となろう（仙台発着でない出張を考えている者には意味のある言葉なのだが）．\n",
        "\n",
        "暫定経路値の２つめの和のほうは，その変わるはずのない経路**のみ**を組み合わせて算出している点にも注意する．次図中では， W(1,4) はそれまで NC であっところを， 100+145=245 という新しい値で更新している．このような暫定経路値の吟味と更新を，N * N のどのセルをどの順で更新しても，この結果が他のセルの実行結果で影響を受けることはない．（その意味で N * N のセルの更新は N * N 並列で実行可能）\n",
        "\n",
        "あとは，これを繰り返していく．次の「頂点1を経由頂点として追加した結果」では，その前提となる暫定経路値は W(Src,1) と　W(1,Dst) である．このどちらも「直行ないし頂点0の経由迄が認められたうちでの最小経路値」が示されていることに注意する．\n",
        "\n",
        "説明しても納得には時間がかかるかもしれない．図を丁寧に追いかけて理解することを望む．ほぼ同等の結果を次のプログラムで表示できるようにしてあるので，グラフを変えてみたりしながら理解して頂きたい．  \n",
        "これが理解できた瞬間に，どうして動的計画法を普段なかなか人間は思いついて実行したりしないかを実感できることであろう．\n",
        "\n",
        "**実装**\n",
        "\n",
        "アルゴリズムは難しいが，それを理解した後であれば，C言語でのプログラミングに当たって難しいところはない．  \n"
      ]
    },
    {
      "cell_type": "markdown",
      "metadata": {
        "id": "OmyZLNNxLTcK"
      },
      "source": [
        "![da2020-floyd-bitmap](https://user-images.githubusercontent.com/45651568/84224666-1817d000-ab18-11ea-8b78-ab412dda3675.jpg)\n"
      ]
    },
    {
      "cell_type": "markdown",
      "metadata": {
        "id": "0_o0avWIHZqC"
      },
      "source": [
        "# Flyodのアルゴリズムに基づくプログラム\n",
        "\n",
        "**目標**\n",
        "\n",
        "正値重みの辺で構成される有向グラフにおいて，グラフ上の任意の頂点対の最小経路値とその経路を求めるＣプログラムを作成する．\n",
        "\n",
        "**説明**\n",
        "\n",
        "Floydのアルゴリズム本体は一つのユーザ定義関数 find_shortest_floyd() で実装する．\n",
        "\n",
        "**コード**\n",
        "\n",
        "C言語では無限大という数は扱えない．それに関連する演算「無限大 + 定数 = 無限大」も扱えない．\n",
        "ここでは，無限大の代わりに十分大きな数（より正確には処理の途中で一時的に得られるであろう暫定経路値の最大値より大きい数）NCを用意し，NCに辺の最大重みを加えてもまだC言語の演算範囲内にあるものとして実装を行う．\n",
        "\n",
        "なお，なにかしら引数を１つ指定すると，上述の解説図と同じようなシンプルな出力が得られるようにしてある．(simpledisplay変数に注意してコードを読むこと）\n",
        "\n",
        "\n",
        "**備考**\n",
        "\n",
        "最短経路を実際に求めている部分は本当に解いているのか？と疑いたくなるぐらい短いプログラムである．理解のためにコメント行と表示用コードを差し込んでいるが，試しにそれらを削除してみるとその短さが実感できるであろう．初期化に相当する1.と2.を除けけば，本体は３重ループの内側にif文が1つあるだけなのである(80行目)．それにも関わらずDijkstraのアルゴリズムよりも多くのことを実現できている．  \n",
        "これは，如何にFloydのアルゴリズムがコンピュータとC言語に相性がよいかという証と言えよう．  \n",
        "\n",
        "Dijkstraのときのような集合を使わないので，集合用のライブラリの構築と使用も必要ない．"
      ]
    },
    {
      "cell_type": "code",
      "metadata": {
        "id": "Eo2CM8EqZi97"
      },
      "source": [
        "%%writefile shortest-floyd_J.c\n",
        "// Shortest path by Floyd\n",
        "//    2020/06/07 kameda\n",
        "#include <stdio.h> // printf()\n",
        "#include <stdlib.h> // atoi()\n",
        "#include \"graph6.h\" // edge[][], N, NC\n",
        "\n",
        "int simpledisplay = 0; // 0:normal, 1:simpler\n",
        "\n",
        "// 頂点のための構造体変数\n",
        "typedef struct {\n",
        "\tint cost; // 暫定経路値（暫定最小値）\n",
        "\tint via; // 経由頂点\n",
        "} CostVia;\n",
        "\n",
        "CostVia pathinfo[N][N]; // \t[a][b] 開始頂点a, 到着頂点b\n",
        "\n",
        "// 全経路の表示（再帰呼出を利用）\n",
        "// この方法だと最終到着頂点は表示されないので注意\n",
        "void outputpath(int SrcNode, int DstNode){\n",
        "\t// 再帰呼び出しの終了条件は「直行便」 (via[s][d]==s)。\n",
        "    // 出発側のみ表示\n",
        "\tif (SrcNode == pathinfo[SrcNode][DstNode].via) {\n",
        "\t\tprintf(\"%2d \", SrcNode);\n",
        "\t} else {\n",
        "\t\t// 経由地の前後のPATHそれぞれ探索して表示\n",
        "\t\toutputpath(SrcNode, pathinfo[SrcNode][DstNode].via);\n",
        "\t\toutputpath(pathinfo[SrcNode][DstNode].via, DstNode);\n",
        "\t}\n",
        "}\n",
        "\n",
        "// 経由行列の表示\n",
        "void print_path_status(void){\n",
        "\tint SrcNode, DstNode;\n",
        "\n",
        "\tif (simpledisplay == 0) {\n",
        "\t\tfor (SrcNode = 0; SrcNode < N; SrcNode++) {\n",
        "\t\t\tfor (DstNode = 0; DstNode < N; DstNode++) {\n",
        "\t\t\t\tif (pathinfo[SrcNode][DstNode].cost >= NC) \n",
        "\t\t\t\t\tprintf(\"---(--) \");\n",
        "\t\t\t\telse\n",
        "\t\t\t\t\tprintf(\"%3d(%2d) \", pathinfo[SrcNode][DstNode].cost, pathinfo[SrcNode][DstNode].via);\n",
        "\t\t\t}\n",
        "\t\t\tprintf(\"\\n\");\n",
        "\t\t}\n",
        "\t} else {\n",
        "\t\tfor (SrcNode = 0; SrcNode < N; SrcNode++) {\n",
        "\t\t\tfor (DstNode = 0; DstNode < N; DstNode++) {\n",
        "\t\t\t\tif (pathinfo[SrcNode][DstNode].cost >= NC) \n",
        "\t\t\t\t\tprintf(\"NC\\t\");\n",
        "\t\t\t\telse\n",
        "\t\t\t\t\tprintf(\"%3d\\t\", pathinfo[SrcNode][DstNode].cost);\n",
        "\t\t\t\t}\n",
        "\t\t\tprintf(\"\\n\");\n",
        "\t\t}\n",
        "\t}\n",
        "\n",
        "\treturn ;\n",
        "}\n",
        "\n",
        "// Floydのアルゴリズムの本体 \n",
        "void find_shortest_floyd(void){\n",
        "\tint SrcNode, DstNode;\n",
        "\tint MidNode; // a.k.a. \"k\"\n",
        "\tint NewCost;\n",
        "\t\n",
        "\t// 直行のみを認める形で初期化\n",
        "\t// 直行できない頂点対の場合はNC（＝直交で行けない）という重みで初期化\n",
        "\tfor (SrcNode = 0; SrcNode < N; SrcNode++) {\n",
        "\t\tfor (DstNode = 0; DstNode < N; DstNode++) {\n",
        "\t\t\tpathinfo[SrcNode][DstNode].cost = edge[SrcNode][DstNode];\n",
        "\t\t\tpathinfo[SrcNode][DstNode].via  = SrcNode; // 直行が解の時は via == SrcNode\n",
        "\t\t}\n",
        "\t}\n",
        "\tprintf(\"直通のみを認めた結果 ===\\n\");\n",
        "\tprint_path_status();\n",
        "\n",
        "    // 最外ループは step 3. と 5. に相当\n",
        "    // ２番目と３番目のループは step 4. に相当\n",
        "\tfor (MidNode = 0; MidNode < N; MidNode++) {\n",
        "\t\tfor (SrcNode = 0; SrcNode < N; SrcNode++) {\n",
        "\t\t\tfor (DstNode = 0; DstNode < N; DstNode++) {\n",
        "\t\t\t\tNewCost = pathinfo[SrcNode][MidNode].cost + pathinfo[MidNode][DstNode].cost;\n",
        "\t\t\t\tif (NewCost < pathinfo[SrcNode][DstNode].cost) {\n",
        "\t\t\t\t\tpathinfo[SrcNode][DstNode].cost = NewCost;\n",
        "\t\t\t\t\tpathinfo[SrcNode][DstNode].via  = MidNode;\n",
        "\t\t\t\t}\n",
        "\t\t\t}\n",
        "\t\t}\n",
        "\t\tprintf(\"Step 4. 終了 (頂点 %2d を経由頂点として追加した結果) ===\\n\", MidNode);\n",
        "\t\tprint_path_status();\n",
        "\t}\n",
        "\n",
        "\t// 結果の表示\n",
        "\tif (simpledisplay == 0) {\n",
        "\t\tprintf(\"最短経路問題の答\\n\");\n",
        "\t\tfor (SrcNode = 0; SrcNode < N; SrcNode++) {\n",
        "\t\t\tfor (DstNode = 0; DstNode < N; DstNode++) {\n",
        "\t\t\t\tprintf(\"%2d => %2d: \",SrcNode, DstNode);\n",
        "\t\t\t\tif (pathinfo[SrcNode][DstNode].cost == NC) {\n",
        "\t\t\t\t\tprintf(\"  - : (No path)\");\n",
        "\t\t\t\t} else {\n",
        "\t\t\t\t\tprintf(\"%3d :\", pathinfo[SrcNode][DstNode].cost);\n",
        "\t\t\t\t\toutputpath(SrcNode, DstNode);\n",
        "\t\t\t\t\tprintf(\"%2d\", DstNode);\n",
        "\t\t\t\t}\n",
        "\t\t\t\tprintf(\"\\n\");\n",
        "\t\t\t}\n",
        "\n",
        "\t\t\tprintf(\"\\n\");\n",
        "\t\t}\n",
        "\t}\n",
        "\n",
        "\treturn ;\n",
        "}\n",
        "\n",
        "// Main function\n",
        "int main(int argc, char *argv[]){\n",
        "\t  \n",
        "    if (argc >= 2) {\n",
        "\t\tsimpledisplay = 1;\n",
        "\t\tprintf(\"結果を簡約表示のみにします．\\n\");\n",
        "\t}\n",
        "\n",
        "\tfind_shortest_floyd();\n",
        "\n",
        "\treturn 0;\n",
        "}\n"
      ],
      "execution_count": null,
      "outputs": []
    },
    {
      "cell_type": "markdown",
      "metadata": {
        "id": "zhechXUNbvva"
      },
      "source": [
        "\n",
        "コンパイルしてエラーが無いことを確認．"
      ]
    },
    {
      "cell_type": "code",
      "metadata": {
        "id": "UcFL-3AR8XSu"
      },
      "source": [
        "!gcc -Wall -o shortest-floyd_J shortest-floyd_J.c"
      ],
      "execution_count": null,
      "outputs": []
    },
    {
      "cell_type": "markdown",
      "metadata": {
        "id": "CxBI4UbEcB9L"
      },
      "source": [
        "実行．"
      ]
    },
    {
      "cell_type": "code",
      "metadata": {
        "id": "O3zzVD4tcA3h"
      },
      "source": [
        "!echo \"通常版（途中結果で経由頂点も表示）----------------------------\"\n",
        "!./shortest-floyd_J"
      ],
      "execution_count": null,
      "outputs": []
    },
    {
      "cell_type": "markdown",
      "metadata": {
        "id": "cfxGB4weRlvv"
      },
      "source": [
        "コマンドライン引数をなにか付けると，途中の表示がシンプルになる．"
      ]
    },
    {
      "cell_type": "code",
      "metadata": {
        "id": "7u76N2OnRqaf"
      },
      "source": [
        "!echo \"シンプル版（算定経路値のみ表示）--------------------\"\n",
        "!./shortest-floyd_J a"
      ],
      "execution_count": null,
      "outputs": []
    },
    {
      "cell_type": "markdown",
      "metadata": {
        "id": "DY_MbwoPf_9h"
      },
      "source": [
        "# 節末課題\n",
        "\n",
        "1. 最短経路の表示の仕組み  \n",
        "shortest_floyd Cプログラムにおいて，全ての頂点対の最小経路を表示する部分には再帰呼出関数を用いている．これについて，本プログラムが最小経路を表示している仕組みを説明せよ．特に，via[][]が格納している値について言及しながら説明すること．（参考：2019年度まではこの部分を自ら作成するのが課題であった．github化するにあたって，プログラムを読むだけにしたので，随分簡単な課題にしたものである）\n",
        "\n",
        "2. 計算量  \n",
        "shortest_floyd プログラムの時間計算量と空間計算量を議論せよ．\n",
        "\n",
        "3. shortest_diskstra プログラムの再利用  \n",
        "N対Nの最短経路問題を解くにあたって，shortest_diskstra プログラムを改良して実現して見よ．プログラム内で開始頂点を1からNまで変更しながら，dijkstraのアルゴリズムを実行するという方針である．改良したプログラムについて，時間計算量と空間計算量を議論せよ．\n",
        "\n",
        "4. 十分大きな数NC  \n",
        "あるグラフが与えられた時，暫定経路値の一時的最大値と最大重み辺が分かれば，NCを決めることができる．これを正確に求めることは難しいが，アルゴリズムの趣旨を考えれば，これは正確な値である必要はない．そこで，グラフの隣接行列が与えられたとして，NCの近似値として役に立つ数字を 時間計算量 O(N^2) で求める簡単な方法を考えてみよ．\n"
      ]
    },
    {
      "cell_type": "markdown",
      "metadata": {
        "id": "n0_qAVd6mlVl"
      },
      "source": [
        "# 出典\n",
        "\n",
        "筑波大学工学システム学類  \n",
        "データ構造とアルゴリズム  \n",
        "担当：亀田能成  \n",
        "2022/05/25 文言修正  \n",
        "2022/04/13 フォルダ構成を更新  \n",
        "2021/05/26 初版  \n"
      ]
    }
  ]
}