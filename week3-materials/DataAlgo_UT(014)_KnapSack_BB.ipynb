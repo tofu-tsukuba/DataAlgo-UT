{
  "nbformat": 4,
  "nbformat_minor": 0,
  "metadata": {
    "colab": {
      "name": "DataAlgo_UT(014)_KnapSack-BB",
      "provenance": [],
      "collapsed_sections": [],
      "authorship_tag": "ABX9TyOE1DOAtqQyF8JPh1BW2tpe",
      "include_colab_link": true
    },
    "kernelspec": {
      "name": "python3",
      "display_name": "Python 3"
    }
  },
  "cells": [
    {
      "cell_type": "markdown",
      "metadata": {
        "id": "view-in-github",
        "colab_type": "text"
      },
      "source": [
        "<a href=\"https://colab.research.google.com/github/kameda-yoshinari/DataAlgo-UT/blob/main/DataAlgo_UT(014)_KnapSack_BB.ipynb\" target=\"_parent\"><img src=\"https://colab.research.google.com/assets/colab-badge.svg\" alt=\"Open In Colab\"/></a>"
      ]
    },
    {
      "cell_type": "markdown",
      "metadata": {
        "id": "yRmydXneMgT8"
      },
      "source": [
        "# 6.3. 分岐限定法\n",
        "\n",
        "バックトラック法では，解の条件を利用して，解の探索途中であっても（解の条件が満たせなくなった時点で早々に）探索を打ち切っていた．\n",
        "\n",
        "これをさらに進めて，解候補が解の条件を満たすと**見込めなくなった時点で**解の探索を打ち切ることを考える．\n",
        "\n",
        "これを分岐限定法という．\n",
        "\n",
        "本節では，ナップサック問題 (Knapsack problem) という有名な問題を取り上げて，全解探索法，バックトラック法，分岐限定法の三つを学習する．\n",
        "\n",
        "**いつもの約束**  \n",
        "１つのコードセルだけの実行は Ctrl + Enter．  \n",
        "エディタで「インデント幅（スペース）は4で表示」「行番号を表示」「インデントガイドを表示」．  \n",
        "内部では日本語はUTF-8で表現されている．\n"
      ]
    },
    {
      "cell_type": "markdown",
      "metadata": {
        "id": "CdQdV_MJIlce"
      },
      "source": [
        "# 準備\n",
        "\n",
        "インスタンスに接続し起動する．  \n",
        "下記の手順でGoogle Driveをマウントする．  \n",
        "マウント先に移動し，作業フォルダとする．  \n",
        "これによって，インスタンスがリセットされてもGoogle Drive内にファイルが保存されるようにする．"
      ]
    },
    {
      "cell_type": "code",
      "metadata": {
        "id": "DMtqXRXJIPMR"
      },
      "source": [
        "!echo \"Google Driveをマウントします\"\n",
        "from google.colab import drive \n",
        "drive.mount('/content/drive')"
      ],
      "execution_count": null,
      "outputs": []
    },
    {
      "cell_type": "code",
      "metadata": {
        "id": "SABzmuELIaj2"
      },
      "source": [
        "!echo \"今回の作業用フォルダを作成しそこに移動します\"\n",
        "%cd /content/drive/My\\ Drive/\n",
        "%mkdir -p UT_DataAlgo/DA_014\n",
        "%cd       UT_DataAlgo/DA_014\n",
        "!ls\n",
        "!echo \"日本時間表示\"\n",
        "!rm /etc/localtime\n",
        "!ln -s /usr/share/zoneinfo/Japan /etc/localtime\n",
        "!date"
      ],
      "execution_count": null,
      "outputs": []
    },
    {
      "cell_type": "markdown",
      "metadata": {
        "id": "4s3BWazcz1FB"
      },
      "source": [
        "# ナップサック問題 (Knapsack problem)\n",
        "\n",
        "**問題**\n",
        "\n",
        "今，美術館にN個の展示がある．もし貴方が稀代の大泥棒ルパン三世だったとしよう．ある夜，背中に W kgまでなら破れないナップサックを背負って美術館に華麗に侵入したとする．警報が鳴り出す前に，ナップサックが破れない範囲において，もっとも価値合計が大きくなるように美術品の数々を盗み出したい．どれを持ち帰るべきだろうか？\n",
        "\n",
        "（想像するだけにしておくこと．佳き大学生として決して実行しないように要請する．）\n",
        "\n",
        "美術品は全て１点ものだが，一応，市場価格があるものとする．つまり，各物体 i には，価値 V<sub>i</sub> と 重量 W<sub>i</sub> が定まっているものとする．いずれも正値とする．  \n",
        "\n",
        "0-1ナップサック問題とは，N個の対象について，価値と重量が与えられ，かつ総重量制限が与えられたもとで，最大価値合計を実現する対象取捨選択の組み合わせを答える問題である．最初の0-1は，拾わない場合を0，対象を拾う場合を1とする表現に対応している．  \n",
        "\n",
        "**ヒューリスティックな探索**\n",
        "\n",
        "賢い諸君がおそらく真っ先に考えるのは，美術品ごとに重量当たりの価値を求め，それをソーティングし，上位から順にナップサックを詰めていく方法であろう．\n",
        "\n",
        "多くの場合，この考え方は現実的であるが，最適解を得られる保証はない．これは，ナップサック問題において，V<sub>i</sub> と W<sub>i</sub> がまちまちであることが原因である．（もし対象が美術品ではなく，砂金のように分割してもいいようなものであれば，この方法で最適解が得られる．）   \n",
        "ちなみにこの手順はグリーディーアルゴリズムと見なせる（今回は最適解を与えてくれない）．\n",
        "\n",
        "\n"
      ]
    },
    {
      "cell_type": "markdown",
      "metadata": {
        "id": "dd-hVe7gXiCk"
      },
      "source": [
        "# 全解探索法\n",
        "\n",
        "\n",
        "明らかに，各物体については，拾うか拾わないかの二択である．  \n",
        "これをN回繰り返すので，解候補は 2<sup>N</sup> ある．  \n",
        "解候補それぞれについて，\n",
        "\n",
        "* ナックサックの重量制限内\n",
        "\n",
        "であるかどうかを確認し，この条件に合致する中で最大価値を達成する組み合わせが解となる．\n",
        "\n",
        "基数が2で小さいとはいえ，物体の数Nに対して解候補数が2<sup>N</sup>になることから，問題のサイズNに対して，解候補数は指数爆発する．\n",
        "\n",
        "ナップサック問題は問題のサイズNに対して，解の探索として指数時間かかるアルゴリズムしか発見されていない．このことから，[ナップサック暗号](https://ja.wikipedia.org/wiki/Merkle-Hellman%E3%83%8A%E3%83%83%E3%83%97%E3%82%B5%E3%83%83%E3%82%AF%E6%9A%97%E5%8F%B7)というものが発明され，電子取引の最初期の基盤技術に利用されていたりしたことがある．\n",
        "\n",
        "下記の実装例では，N=8において実行が2<sup>N</sup>すなわり256回程度になっていることに注意する．"
      ]
    },
    {
      "cell_type": "code",
      "metadata": {
        "id": "HoArR1v64y5Y"
      },
      "source": [
        "%%writefile Knapsack-bf_J.c\n",
        "// Knapsack problem solution by Bluteforce\n",
        "// kameda[at]ccs.tsukuba.ac.jp, 2020.\n",
        "#include <stdio.h>\n",
        "#include <stdlib.h> // atoi\n",
        "\n",
        "typedef struct {int v; int w;} knapsack_t;\n",
        "\n",
        "#define N 8\n",
        "\n",
        "// Weight Limit\n",
        "int wlimit = 0;\n",
        "\n",
        "// (value, weight)\n",
        "knapsack_t obj[N] =\n",
        "{\n",
        "\t{ 15,  6},\n",
        "\t{100, 20},\n",
        "\t{ 90, 25},\n",
        "\t{ 60, 30},\n",
        "\t{ 40, 40},\n",
        "\t{ 15, 28},\n",
        "\t{ 16, 29},\n",
        "\t{  3, 10}\n",
        "};\n",
        "\n",
        "// 1...Pickup, 0...Discard\n",
        "int stat[N]; \n",
        "\n",
        "// Maximum Value in the knapsack and tis weight\n",
        "knapsack_t max = {0, 0};\n",
        "\n",
        "// Show knapsack up to the object 0 ... currentobj\n",
        "void showknapsack(int currentobj){\n",
        "    int i;\n",
        "\n",
        "\tprintf(\"List(value) at Object %d : \", currentobj);\n",
        "\tfor (i = 0; i <= currentobj; i++) {\n",
        "\t\tprintf(\"%3d \", stat[i] ? obj[i].v : 0);\n",
        "\t}\n",
        "\tfor (i = currentobj + 1; i < N; i++) {\n",
        "\t\tprintf(\"--- \");\n",
        "\t}\n",
        "\tprintf(\": val = %4d (weight = %4d)\\n\", max.v, max.w);\n",
        "}\n",
        "\n",
        "// Examine the object oid to pickup or not\n",
        "// oid        ... Object ID to examine\n",
        "// ks_current ... current status of the knapsack at this moment\n",
        "void pickobject(int oid, knapsack_t ks_current){\n",
        "\tknapsack_t ks_next; // next status of the knapsack\n",
        "\n",
        "    // End of the search\n",
        "\tif (oid >= N) {\n",
        "        if (ks_current.w <= wlimit) {\n",
        "            // New record (update the answer) ?\n",
        "\t\t    if (ks_current.v > max.v) {\n",
        "                // Current knapsack is record-breaking\n",
        "\t\t\t    max.v = ks_current.v;\n",
        "\t\t\t    max.w = ks_current.w;\n",
        "                printf(\"New record ! (%3d) \", max.v);\n",
        "\t\t\t    showknapsack(oid - 1);\n",
        "\t    \t} else {\n",
        "                printf(\"............ (%3d) \", ks_current.v);\n",
        "\t\t\t    showknapsack(oid - 1);              \n",
        "            }\n",
        "        } else {\n",
        "            printf(\"...weight NG [%3d] \", ks_current.w);\n",
        "\t\t    showknapsack(oid - 1);              \n",
        "        }\n",
        "\t\treturn ;\n",
        "\t}\n",
        "\n",
        "    //---------------------\n",
        "    // Search : two choices\n",
        "    //---------------------\n",
        "\n",
        "    // ----\n",
        "    // choice of Pickup (stat[oid] = 1)\n",
        "    // ----\n",
        "\n",
        "\t// Let's think about PICKING UP the object oid from now.                     \n",
        "\t// stat[0] ... stat[i] with stat[i]=1\n",
        "    {\n",
        "\n",
        "\t\tstat[oid] = 1; // Mark (Pick it up!)\n",
        "\n",
        "\t\t// Pick up object oid and proceed to the next object to examine\n",
        "    \t// When the object is taken, you have to update the knapsack status. \n",
        "\t\t// [Recursive call]\n",
        "\t\tks_next.v = ks_current.v + obj[oid].v;\n",
        "\t\tks_next.w = ks_current.w + obj[oid].w;\n",
        "\t\tpickobject(oid + 1, ks_next);\n",
        "\n",
        "\t\t// On returning to here, we have done everything with stat[0] ... stat[i] with stat[i]=1\n",
        "\t\t// Okey, it's over, clean it up\n",
        "\n",
        "\t\tstat[oid] = 0; // Unmark\n",
        "\t}\n",
        "\n",
        "\t//----\n",
        "\t//　choice of Discard (stat[i] = 0)\n",
        "\t//----\n",
        "\n",
        "\t// Let's think about EXCLUDING the object oid from now.                     \n",
        "\t// stat[0] ... stat[i] with stat[i]=0\n",
        "    {\n",
        "    \t// When the object is excluded, you don't need to update the knapsakc status. \n",
        "\n",
        "        // Nothing to mark\n",
        "\n",
        "\t    // Leave object oid and proceed to the next object to examine\n",
        "\t    pickobject(oid + 1, ks_current);\n",
        "\n",
        "        // Nothing to unmark\n",
        "    }\n",
        "\n",
        "    return ;\n",
        "}\n",
        "\n",
        "// Main function\n",
        "int main(int argc, char *argv[]){\n",
        "\tknapsack_t ks_init = {0, 0};\n",
        "\n",
        "    // examine options\n",
        "    if (argc != 2) {\n",
        "        printf(\"Please set the weight limit (positive integer).\\n\");\n",
        "        return -1;\n",
        "    }\n",
        "    wlimit = atoi(argv[1]);\n",
        "\n",
        "    // Go\n",
        "\tpickobject(0, ks_init);\n",
        "\t\n",
        "\tprintf(\"Result\\n\");\n",
        "\tprintf(\"weight_limit = %d\\n\", wlimit);\n",
        "\tprintf(\"maxv = %d (with weight %d)\\n\", max.v, max.w);\n",
        "\treturn 0;\n",
        "}\n"
      ],
      "execution_count": null,
      "outputs": []
    },
    {
      "cell_type": "code",
      "metadata": {
        "id": "AxhCdx3s5usv"
      },
      "source": [
        "!gcc -Wall -o Knapsack-bf_J Knapsack-bf_J.c"
      ],
      "execution_count": null,
      "outputs": []
    },
    {
      "cell_type": "markdown",
      "metadata": {
        "id": "739RxJXQaQ2v"
      },
      "source": [
        "実行時には重み制限を引数として与える．ここでは112としてみる．"
      ]
    },
    {
      "cell_type": "code",
      "metadata": {
        "id": "qaxhXoQr599T"
      },
      "source": [
        "!./Knapsack-bf_J 112"
      ],
      "execution_count": null,
      "outputs": []
    },
    {
      "cell_type": "markdown",
      "metadata": {
        "id": "BAgAnfuwaZN-"
      },
      "source": [
        "表示した行数を数えてみよう．wcコマンドを用いる(-lで行のみ数える)．最後の結果表示に3行用いているので，残りの256行が途中経過の表示に相当する．"
      ]
    },
    {
      "cell_type": "code",
      "metadata": {
        "id": "sUjsF2tJaiNo"
      },
      "source": [
        "!./Knapsack-bf_J 112 | wc -l"
      ],
      "execution_count": null,
      "outputs": []
    },
    {
      "cell_type": "markdown",
      "metadata": {
        "id": "5QkNub1bXi1l"
      },
      "source": [
        "# バックトラック法  \n",
        "ナップサック問題では条件は「ナックサックの重量制限内」のみである．\n",
        "そこで，これを解候補生成の際の条件にする．\n",
        "\n",
        "全解探索のプログラム Knapsack-bf_J.c をもとにバックトラック法で書き下したプログラムが下記である．  \n",
        "もとのプログラムをよく理解していれば，違いがどこに現れるか予想が付くであろう．  \n",
        "まずは自分で確認してみること．\n",
        "\n",
        "\n",
        "\n",
        "\n",
        "\n",
        "\n",
        "\n"
      ]
    },
    {
      "cell_type": "code",
      "metadata": {
        "id": "Eo2CM8EqZi97"
      },
      "source": [
        "%%writefile Knapsack-bt_J.c\n",
        "// Knapsack problem solution by Backtrack\n",
        "// kameda[at]ccs.tsukuba.ac.jp, 2020.\n",
        "#include <stdio.h>\n",
        "#include <stdlib.h> // atoi\n",
        "\n",
        "typedef struct {int v; int w;} knapsack_t;\n",
        "\n",
        "#define N 8\n",
        "\n",
        "// Weight Limit\n",
        "int wlimit = 0;\n",
        "\n",
        "// (value, weight)\n",
        "knapsack_t obj[N] =\n",
        "{\n",
        "\t{ 15,  6},\n",
        "\t{100, 20},\n",
        "\t{ 90, 25},\n",
        "\t{ 60, 30},\n",
        "\t{ 40, 40},\n",
        "\t{ 15, 28},\n",
        "\t{ 16, 29},\n",
        "\t{  3, 10}\n",
        "};\n",
        "\n",
        "// 1...Pickup, 0...Discard\n",
        "int stat[N]; \n",
        "\n",
        "// Maximum Value in the knapsack and tis weight\n",
        "knapsack_t max = {0, 0};\n",
        "\n",
        "// Show knapsack up to the object 0 ... currentobj\n",
        "void showknapsack(int currentobj){\n",
        "    int i;\n",
        "\n",
        "\tprintf(\"List(value) at Object %d : \", currentobj);\n",
        "\tfor (i = 0; i <= currentobj; i++) {\n",
        "\t\tprintf(\"%3d \", stat[i] ? obj[i].v : 0);\n",
        "\t}\n",
        "\tfor (i = currentobj + 1; i < N; i++) {\n",
        "\t\tprintf(\"--- \");\n",
        "\t}\n",
        "\tprintf(\": val = %4d (weight = %4d)\\n\", max.v, max.w);\n",
        "}\n",
        "\n",
        "// Examine the object oid to pickup or not\n",
        "// oid        ... Object ID to examine\n",
        "// ks_current ... current status of the knapsack at this moment\n",
        "void pickobject(int oid, knapsack_t ks_current){\n",
        "\tknapsack_t ks_next; // next status of the knapsack\n",
        "\n",
        "    // End of the search\n",
        "\tif (oid >= N) {\n",
        "        if (ks_current.w <= wlimit) {\n",
        "            // New record (update the answer) ?\n",
        "\t\t    if (ks_current.v > max.v) {\n",
        "                // Current knapsack is record-breaking\n",
        "\t\t\t    max.v = ks_current.v;\n",
        "\t\t\t    max.w = ks_current.w;\n",
        "                printf(\"New record ! (%3d) \", max.v);\n",
        "\t\t\t    showknapsack(oid - 1);\n",
        "\t    \t} else {\n",
        "                printf(\"............ (%3d) \", ks_current.v);\n",
        "\t\t\t    showknapsack(oid - 1);              \n",
        "            }\n",
        "        } else {\n",
        "            printf(\"...weight NG [%3d] \", ks_current.w);\n",
        "\t\t    showknapsack(oid - 1);              \n",
        "        }\n",
        "\t\treturn ;\n",
        "\t}\n",
        "\n",
        "    //---------------------\n",
        "    // Search : two choices\n",
        "    //---------------------\n",
        "\n",
        "    // ----\n",
        "    // choice of Pickup (stat[oid] = 1)\n",
        "    // ----\n",
        "\n",
        "\t// Let's think about PICKING UP the object oid from now.                     \n",
        "\t// stat[0] ... stat[i] with stat[i]=1\n",
        "\tif (ks_current.w + obj[oid].w <= wlimit) { // Weight limit condition\n",
        "\n",
        "\t\tstat[oid] = 1; // Mark (Pick it up!)\n",
        "\n",
        "\t\t// Pick up object oid and proceed to the next object to examine\n",
        "    \t// When the object is taken, you have to update the knapsack status. \n",
        "\t\t// [Recursive call]\n",
        "\t\tks_next.v = ks_current.v + obj[oid].v;\n",
        "\t\tks_next.w = ks_current.w + obj[oid].w;\n",
        "\t\tpickobject(oid + 1, ks_next);\n",
        "\n",
        "\t\t// On returning to here, we have done everything with stat[0] ... stat[i] with stat[i]=1\n",
        "\t\t// Okey, it's over, clean it up\n",
        "\n",
        "\t\tstat[oid] = 0; // Unmark\n",
        "\t}\n",
        "\n",
        "\t//----\n",
        "\t//　choice of Discard (stat[i] = 0)\n",
        "\t//----\n",
        "\n",
        "\t// Let's think about EXCLUDING the object oid from now.                     \n",
        "\t// stat[0] ... stat[i] with stat[i]=0\n",
        "    {\n",
        "    \t// When the object is excluded, you don't need to update the knapsakc status. \n",
        "\n",
        "        // Nothing to mark\n",
        "\n",
        "\t    // Leave object oid and proceed to the next object to examine\n",
        "\t    pickobject(oid + 1, ks_current);\n",
        "\n",
        "        // Nothing to unmark\n",
        "    }\n",
        "\n",
        "    return ;\n",
        "}\n",
        "\n",
        "// Main function\n",
        "int main(int argc, char *argv[]){\n",
        "\tknapsack_t ks_init = {0, 0};\n",
        "\n",
        "    // examine options\n",
        "    if (argc != 2) {\n",
        "        printf(\"Please set the weight limit (positive integer).\\n\");\n",
        "        return -1;\n",
        "    }\n",
        "    wlimit = atoi(argv[1]);\n",
        "\n",
        "    // Go\n",
        "\tpickobject(0, ks_init);\n",
        "\t\n",
        "\tprintf(\"Result\\n\");\n",
        "\tprintf(\"weight_limit = %d\\n\", wlimit);\n",
        "\tprintf(\"maxv = %d (with weight %d)\\n\", max.v, max.w);\n",
        "\treturn 0;\n",
        "}\n"
      ],
      "execution_count": null,
      "outputs": []
    },
    {
      "cell_type": "markdown",
      "metadata": {
        "id": "9NVTZ-ukcDcy"
      },
      "source": [
        "二つのプログラムがとてもよく似ていることに気づいただろうか．\n",
        "実は実質的に違いは１行のみである．\n",
        "このことは，diffコマンドを使ってみればよくわかる．\n",
        "\n",
        "(先頭行は単なるコメントなので違いとしてはノーカウント．）  \n",
        "(便利な世の中で https://www.diffchecker.com/ とかなども利用できる)  \n",
        "\n"
      ]
    },
    {
      "cell_type": "code",
      "metadata": {
        "id": "jy12T8iMcC1p"
      },
      "source": [
        "!diff Knapsack-bf_J.c Knapsack-bt_J.c"
      ],
      "execution_count": null,
      "outputs": []
    },
    {
      "cell_type": "markdown",
      "metadata": {
        "id": "zhechXUNbvva"
      },
      "source": [
        "コンパイルしてエラーが無いことを確認．"
      ]
    },
    {
      "cell_type": "code",
      "metadata": {
        "id": "UcFL-3AR8XSu"
      },
      "source": [
        "!gcc -Wall -o Knapsack-bt_J Knapsack-bt_J.c"
      ],
      "execution_count": null,
      "outputs": []
    },
    {
      "cell_type": "markdown",
      "metadata": {
        "id": "CxBI4UbEcB9L"
      },
      "source": [
        "先ほどと同じ重み制限112を付けて実行してみよう．"
      ]
    },
    {
      "cell_type": "code",
      "metadata": {
        "id": "O3zzVD4tcA3h"
      },
      "source": [
        "!./Knapsack-bt_J 112"
      ],
      "execution_count": null,
      "outputs": []
    },
    {
      "cell_type": "markdown",
      "metadata": {
        "id": "bStYIhaRc_Ng"
      },
      "source": [
        "行数も同じように数えてみる．"
      ]
    },
    {
      "cell_type": "code",
      "metadata": {
        "id": "H5nDWooJdBzO"
      },
      "source": [
        "!./Knapsack-bt_J 112 | wc -l"
      ],
      "execution_count": null,
      "outputs": []
    },
    {
      "cell_type": "markdown",
      "metadata": {
        "id": "URLDylrpdOdA"
      },
      "source": [
        "最後の3行を無視すると，実質174行である．つまり，256-174=82回がバックトラック法によって計算コストとして削減できたことになる．おおよそ三分の一である．この削減量は，Nや品物の価値・重量，品物の登場順，ナップサックの重量制限が変われば変わることになる．\n",
        "\n",
        "バックトラック法が全解探索法と同じだけコストがかかることはないが，ビッグオー表現としてこの削減量を定式化することは（残念ながらそのままでは）難しい．"
      ]
    },
    {
      "cell_type": "markdown",
      "metadata": {
        "id": "sRoDM7yhpD8D"
      },
      "source": [
        "# 分岐限定法 (Branch-and-Bound)\n",
        "\n",
        "この方法がこの節で学ぶ本題である．  \n",
        "\n",
        "バックトラック法では，品物を拾うかどうかを考える時に，対象を拾っていく場合にナップサックが破れないことを解候補生成の条件にしていた．\n",
        "\n",
        "それでは，対象を拾わないまま先に進む場合にも何かできることはないだろうか．\n",
        "\n",
        "よく考えれば，ある物体iを拾わないということは，最大価値を達成できる見込みが薄れていくことを意味している．見込みが薄いだけならまだ探索を進める意味はあるが，この見込みが絶望に変わるなら，その先の探索をする必要は全くないことになる．\n",
        "\n",
        "美術館に侵入して品物の吟味を始める前は，もしかすると全ての品物を持ち帰れるかもしれないという淡い期待を胸に秘めていることであろう．その期待値 (achievable value, av) は，探索を進めて行くときに「拾わない」ことを選択する度に，その品物の価値分だけ減っていく．拾わないことにしたのだから当然である．\n",
        "この期待値 av が，これまでの探索において達成できた（暫定）最大価値合計よりも小さくなってしまったら，その先の探索に意味はない．すなわち，これを，ある品物iを「拾わない」場合の探索打ち切り条件とできる．\n",
        "\n",
        "下記の Knapsack-bb_J.c プログラムは Knapsack-bt_J.c から分岐限定法に合うように変更したものである．diffによって違いを示しているので，合わせて確認していこう．"
      ]
    },
    {
      "cell_type": "code",
      "metadata": {
        "id": "FFXXHFuJsMFC"
      },
      "source": [
        "%%writefile Knapsack-bb_J.c\n",
        "// Knapsack problem solution by Branch-and-Bound\n",
        "// kameda[at]ccs.tsukuba.ac.jp, 2020.\n",
        "#include <stdio.h>\n",
        "#include <stdlib.h> // atoi\n",
        "\n",
        "typedef struct {int v; int w;} knapsack_t;\n",
        "\n",
        "#define N 8\n",
        "\n",
        "// Weight Limit\n",
        "int wlimit = 0;\n",
        "\n",
        "// (value, weight)\n",
        "knapsack_t obj[N] =\n",
        "{\n",
        "\t{ 15,  6},\n",
        "\t{100, 20},\n",
        "\t{ 90, 25},\n",
        "\t{ 60, 30},\n",
        "\t{ 40, 40},\n",
        "\t{ 15, 28},\n",
        "\t{ 16, 29},\n",
        "\t{  3, 10}\n",
        "};\n",
        "\n",
        "// 1...Pickup, 0...Discard\n",
        "int stat[N]; \n",
        "\n",
        "// Maximum Value in the knapsack and tis weight\n",
        "knapsack_t max = {0, 0};\n",
        "\n",
        "// Show knapsack up to the object 0 ... currentobj\n",
        "void showknapsack(int currentobj){\n",
        "    int i;\n",
        "\n",
        "\tprintf(\"List(value) at Object %d : \", currentobj);\n",
        "\tfor (i = 0; i <= currentobj; i++) {\n",
        "\t\tprintf(\"%3d \", stat[i] ? obj[i].v : 0);\n",
        "\t}\n",
        "\tfor (i = currentobj + 1; i < N; i++) {\n",
        "\t\tprintf(\"--- \");\n",
        "\t}\n",
        "\tprintf(\": val = %4d (weight = %4d)\\n\", max.v, max.w);\n",
        "}\n",
        "\n",
        "// Examine the object oid to pickup or not\n",
        "// oid        ... Object ID to examine\n",
        "// ks_current ... current status of the knapsack at this moment\n",
        "// av         ... achievable value (at best) ... new for branch and bound\n",
        "void pickobject(int oid, knapsack_t ks_current, int av){\n",
        "\tknapsack_t ks_next; // next status of the knapsack\n",
        "\tint av_without_i; // achievable value at best without (i)th object\n",
        "\n",
        "    // End of the search\n",
        "\tif (oid >= N) {\n",
        "        if (ks_current.w <= wlimit) {\n",
        "            // New record (update the answer) ?\n",
        "\t\t    if (ks_current.v > max.v) {\n",
        "                // Current knapsack is record-breaking\n",
        "\t\t\t    max.v = ks_current.v;\n",
        "\t\t\t    max.w = ks_current.w;\n",
        "                printf(\"New record ! (%3d) \", max.v);\n",
        "\t\t\t    showknapsack(oid - 1);\n",
        "\t    \t} else {\n",
        "                printf(\"............ (%3d) \", ks_current.v);\n",
        "\t\t\t    showknapsack(oid - 1);              \n",
        "            }\n",
        "        } else {\n",
        "            printf(\"...weight NG [%3d] \", ks_current.w);\n",
        "\t\t    showknapsack(oid - 1);              \n",
        "        }\n",
        "\t\treturn ;\n",
        "\t}\n",
        "\n",
        "    //---------------------\n",
        "    // Search : two choices\n",
        "    //---------------------\n",
        "\n",
        "    // ----\n",
        "    // choice of Pickup (stat[oid] = 1)\n",
        "    // ----\n",
        "\n",
        "\t// Let's think about PICKING UP the object oid from now.                     \n",
        "\t// stat[0] ... stat[i] with stat[i]=1\n",
        "\tif (ks_current.w + obj[oid].w <= wlimit) { // Weight limit condition\n",
        "\n",
        "\t\tstat[oid] = 1; // Mark (Pick it up!)\n",
        "\n",
        "\t\t// Pick up object oid and proceed to the next object to examine\n",
        "    \t// When the object is taken, you have to update the knapsack status. \n",
        "\t\t// [Recursive call]\n",
        "\t\tks_next.v = ks_current.v + obj[oid].v;\n",
        "\t\tks_next.w = ks_current.w + obj[oid].w;\n",
        "\t\tpickobject(oid + 1, ks_next, av); // av is same because you pick up this object.\n",
        "\n",
        "\t\t// On returning to here, we have done everything with stat[0] ... stat[i] with stat[i]=1\n",
        "\t\t// Okey, it's over, clean it up\n",
        "\n",
        "\t\tstat[oid] = 0; // Unmark\n",
        "\t}\n",
        "\n",
        "\t//----\n",
        "\t//　choice of Discard (stat[i] = 0)\n",
        "\t//----\n",
        "\n",
        "\t// Let's think about EXCLUDING the object oid from now.                     \n",
        "\t// stat[0] ... stat[i] with stat[i]=0\n",
        "\tav_without_i = av - obj[oid].v;\t\n",
        "\n",
        "\t// [Branch and bound] here!\n",
        "\t// If 'achievable value' is smaller than 'max.v', there is no hope to\n",
        "\t// get better solution beyond here. So, you need to proceed only when\n",
        "\t//  av_without_i > max.v\n",
        "\tif (av_without_i > max.v) {\n",
        "\n",
        "\n",
        "    \t// When the object is excluded, you don't need to update the knapsakc status. \n",
        "\n",
        "        // Mark that no pick-up is made here : \"stat[oid] = 0;\" could be here.\n",
        "\n",
        "\t    // Leave object oid and proceed to the next object to examine\n",
        "\t  pickobject(oid + 1, ks_current, av_without_i); // less hope yet go\n",
        "\n",
        "        // Unmark that recovery to the original state. \"stat[oid] = 0;\" could be here.\n",
        "    }\n",
        "\n",
        "    return ;\n",
        "}\n",
        "\n",
        "// Main function\n",
        "int main(int argc, char *argv[]){\n",
        "\tknapsack_t ks_init = {0, 0};\n",
        "\tint totalvalue = 0;\n",
        "\tint i;\n",
        "\n",
        "    // examine options\n",
        "    if (argc != 2) {\n",
        "        printf(\"Please set the weight limit (positive integer).\\n\");\n",
        "        return -1;\n",
        "    }\n",
        "    wlimit = atoi(argv[1]);\n",
        "\n",
        "    // Total Value\n",
        "    for (i = 0; i < N; i++)\n",
        "      totalvalue += obj[i].v;\n",
        "\n",
        "    // Go\n",
        "    pickobject(0, ks_init, totalvalue);\n",
        "\t\n",
        "\tprintf(\"Result\\n\");\n",
        "\tprintf(\"weight_limit = %d\\n\", wlimit);\n",
        "\tprintf(\"maxv = %d (with weight %d)\\n\", max.v, max.w);\n",
        "\treturn 0;\n",
        "}\n"
      ],
      "execution_count": null,
      "outputs": []
    },
    {
      "cell_type": "code",
      "metadata": {
        "id": "MGfqiWjFsXQZ"
      },
      "source": [
        "!diff Knapsack-bt_J.c Knapsack-bb_J.c"
      ],
      "execution_count": null,
      "outputs": []
    },
    {
      "cell_type": "markdown",
      "metadata": {
        "id": "0MbMUrOPsiSg"
      },
      "source": [
        "コンパイルしてエラーがないことを確認．"
      ]
    },
    {
      "cell_type": "code",
      "metadata": {
        "id": "leFnfExBsljy"
      },
      "source": [
        "!gcc -Wall -o Knapsack-bb_J Knapsack-bb_J.c"
      ],
      "execution_count": null,
      "outputs": []
    },
    {
      "cell_type": "markdown",
      "metadata": {
        "id": "zh9rHUlTsxk4"
      },
      "source": [
        "前の実行と同じ重み制限112を付けて実行してみよう．"
      ]
    },
    {
      "cell_type": "code",
      "metadata": {
        "id": "3XiNbZ_FsydJ"
      },
      "source": [
        "!./Knapsack-bb_J 112"
      ],
      "execution_count": null,
      "outputs": []
    },
    {
      "cell_type": "markdown",
      "metadata": {
        "id": "srpr5lLytTOI"
      },
      "source": [
        "明らかに解候補の生成が抑制されている．  \n",
        "ナップサック問題の例では，バックトラック法と分岐限定法が，各品物iの「拾う」側と「拾わない」側のそれぞれで解の探索を抑制する形になるので，両方が揃うと途中であきらめる回数が増える．  \n",
        "このことはすなわち探索が効果的に打ち切れていることを意味する．  \n",
        "ここでの例では、解候補が2つにまで減ったことで，計算量の削減効果が劇的に表れている．\n"
      ]
    },
    {
      "cell_type": "markdown",
      "metadata": {
        "id": "DY_MbwoPf_9h"
      },
      "source": [
        "# 節末課題\n",
        "\n",
        "1. 計算量についての考察  \n",
        "Knsapsack-bf_Jプログラム, Knapsack-bt_Jプログラム, およびKnapsack-bb_Jプログラムそれぞれについて，時間計算量と空間計算量について考察せよ．特に，時間計算量については，幾つかのプログラムにおいては，計算量が同じになってしまう状況が考えられる．そのことについても言及せよ．\n",
        "\n",
        "\n",
        "2. 計算量の実測  \n",
        "ビッグオー表現でなく，簡単ではあるが各プログラムで計算量を実際に測定せよ．3つのプログラム Knapsack-bf_J, Knapsack-bt_J, Knapsack-bb_J において，pickup()関数の呼び出し回数を数えるプログラムを作成し，その数で3プログラムの計算コストを比較すること．ナップサックの重み制限を変更して，その変化を表にまとめること．重み制限を変えて10回以上実験すること．（つまり全体で30回以上試行すること)\n",
        "結果を表にまとめ，考察もすること．\n",
        "\n",
        "\n",
        "\n",
        "\n",
        "\n"
      ]
    },
    {
      "cell_type": "markdown",
      "metadata": {
        "id": "cZ-1SycnqxVa"
      },
      "source": [
        "# 出典\n",
        "\n",
        "筑波大学工学システム学類  \n",
        "データ構造とアルゴリズム  \n",
        "担当：亀田能成  \n",
        "2022/05/31 文言修正  \n",
        "2022/04/13 フォルダ構成を更新  \n",
        "2021/06/16 初版"
      ]
    }
  ]
}