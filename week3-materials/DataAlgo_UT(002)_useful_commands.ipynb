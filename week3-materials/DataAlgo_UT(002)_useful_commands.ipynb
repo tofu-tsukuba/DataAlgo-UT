{
  "nbformat": 4,
  "nbformat_minor": 0,
  "metadata": {
    "colab": {
      "provenance": [],
      "authorship_tag": "ABX9TyMwZH3HZCl3lICFm9MPJ2IW",
      "include_colab_link": true
    },
    "kernelspec": {
      "name": "python3",
      "display_name": "Python 3"
    }
  },
  "cells": [
    {
      "cell_type": "markdown",
      "metadata": {
        "id": "view-in-github",
        "colab_type": "text"
      },
      "source": [
        "<a href=\"https://colab.research.google.com/github/kameda-yoshinari/DataAlgo-UT/blob/main/DataAlgo_UT(002)_useful_commands.ipynb\" target=\"_parent\"><img src=\"https://colab.research.google.com/assets/colab-badge.svg\" alt=\"Open In Colab\"/></a>"
      ]
    },
    {
      "cell_type": "markdown",
      "metadata": {
        "id": "i2vKNOZ1ecz8"
      },
      "source": [
        "# 002: Useful commands and tips\n",
        "\n",
        "G-Colabでのプログラム作成や実行について、便利なコマンドやヒントを紹介します。\n",
        "\n",
        "---"
      ]
    },
    {
      "cell_type": "markdown",
      "metadata": {
        "id": "pNb8UTvw7tyK"
      },
      "source": [
        "# 日本に住んでいるので日本時間表示\n",
        "\n",
        "ランタイム接続でずっと日本時間表示して欲しい方はどうぞ．\n",
        "\n",
        "（日本の大学での授業で使うので日本時間表示が好ましい）"
      ]
    },
    {
      "cell_type": "code",
      "source": [
        "%ls"
      ],
      "metadata": {
        "id": "oszm2NTiEuM1"
      },
      "execution_count": null,
      "outputs": []
    },
    {
      "cell_type": "code",
      "metadata": {
        "id": "dIGnoX537xlj"
      },
      "source": [
        "!echo \"デフォルトの時間表示 / UTC\"\n",
        "!date\n",
        "!echo \"日本時間表示 / JST\"\n",
        "!rm /etc/localtime\n",
        "!ln -s /usr/share/zoneinfo/Japan /etc/localtime\n",
        "!date"
      ],
      "execution_count": null,
      "outputs": []
    },
    {
      "cell_type": "markdown",
      "metadata": {
        "id": "iUmd631kKXO3"
      },
      "source": [
        "# インスタンスの調査\n",
        "\n",
        "ハイスペックなコンピュータは必要ありませんが、自分が使っているコンピュータを知っておくのは良いことです。  \n",
        "インスタンスではLinux（Ubuntu）システムが動いているので、コマンドはインスタンス上のbashで実行されます。  "
      ]
    },
    {
      "cell_type": "code",
      "metadata": {
        "id": "0ygOMeguebow",
        "colab": {
          "base_uri": "https://localhost:8080/"
        },
        "outputId": "deea7f37-17b2-4a72-c574-62442e321583"
      },
      "source": [
        "!uname -a"
      ],
      "execution_count": 1,
      "outputs": [
        {
          "output_type": "stream",
          "name": "stdout",
          "text": [
            "Linux ec656807ff65 5.10.147+ #1 SMP Sat Dec 10 16:00:40 UTC 2022 x86_64 x86_64 x86_64 GNU/Linux\n"
          ]
        }
      ]
    },
    {
      "cell_type": "markdown",
      "metadata": {
        "id": "a6hlHsTsSGe7"
      },
      "source": [
        "Linuxですね．もう少し詳しく．"
      ]
    },
    {
      "cell_type": "code",
      "metadata": {
        "id": "-7unrEXgKoNG",
        "colab": {
          "base_uri": "https://localhost:8080/"
        },
        "outputId": "139e84cf-5ee4-47b8-ef8a-bd3b889b80f6"
      },
      "source": [
        "!echo \"Distribution is ...\"\n",
        "!cat /etc/issue\n",
        "!echo \"CPUs are ---\"\n",
        "!cat /proc/cpuinfo | grep \"model name\"\n",
        "!echo \"Memory size is ---\"\n",
        "!free -h\n",
        "!echo \"Disk is ---\"\n",
        "!df -h /"
      ],
      "execution_count": 2,
      "outputs": [
        {
          "output_type": "stream",
          "name": "stdout",
          "text": [
            "Distribution is ...\n",
            "Ubuntu 20.04.5 LTS \\n \\l\n",
            "\n",
            "CPUs are ---\n",
            "model name\t: Intel(R) Xeon(R) CPU @ 2.20GHz\n",
            "model name\t: Intel(R) Xeon(R) CPU @ 2.20GHz\n",
            "Memory size is ---\n",
            "              total        used        free      shared  buff/cache   available\n",
            "Mem:           12Gi       591Mi       8.3Gi       1.0Mi       3.8Gi        11Gi\n",
            "Swap:            0B          0B          0B\n",
            "Disk is ---\n",
            "Filesystem      Size  Used Avail Use% Mounted on\n",
            "overlay         108G   29G   79G  27% /\n"
          ]
        }
      ]
    },
    {
      "cell_type": "markdown",
      "metadata": {
        "id": "x-ZOzPbeMRWI"
      },
      "source": [
        "# Google Driveをマウントしよう\n",
        "\n",
        "インスタンスにドライブをマウントし、インスタンスがファイルをgoogleドライブに保存できるようにしておくと良いでしょう。  \n",
        "下記のコードセルを実行し、ポップアップメニューが現れたら，指示されている通り，googleドライブで許可を出してください。    \n",
        "マウントしたgoogleドライブ上にファイルを保存することで、インスタンスがシャットダウンした後でも、生成されたファイルをgoogle ドライブで確認することができます（ローカルファイルはインスタンスをシャットダウンすると消えてしまいます）。\n"
      ]
    },
    {
      "cell_type": "code",
      "metadata": {
        "id": "8OuIz-i8MV3H",
        "colab": {
          "base_uri": "https://localhost:8080/"
        },
        "outputId": "31b10441-6566-4fa1-b40a-769090a05d44"
      },
      "source": [
        "from google.colab import drive \n",
        "drive.mount('/content/drive')\n",
        "!echo \"Disk (your google drive if mounted) is ---\"\n",
        "!df -h /content/drive"
      ],
      "execution_count": 3,
      "outputs": [
        {
          "output_type": "stream",
          "name": "stdout",
          "text": [
            "Mounted at /content/drive\n",
            "Disk (your google drive if mounted) is ---\n",
            "Filesystem      Size  Used Avail Use% Mounted on\n",
            "drive           108G   28G   81G  26% /content/drive\n"
          ]
        }
      ]
    },
    {
      "cell_type": "markdown",
      "metadata": {
        "id": "IBkWxTFfuOZD"
      },
      "source": [
        "この授業においてはどうでもいいことですが，google colaboratoryを含むjupyter notebook上ではpythonのスクリプトはroot権限によってIpython上で実行されているので，当該ランタイム接続上ではなんでもやりたい放題です．  \n",
        "（Deep Learning系で必要になるツールの追加インストールなども簡単）"
      ]
    },
    {
      "cell_type": "code",
      "metadata": {
        "id": "_hjA6QokMylR",
        "colab": {
          "base_uri": "https://localhost:8080/"
        },
        "outputId": "75cff664-dab4-44be-c7cc-8989af5d9c66"
      },
      "source": [
        "!whoami"
      ],
      "execution_count": null,
      "outputs": [
        {
          "output_type": "stream",
          "name": "stdout",
          "text": [
            "root\n"
          ]
        }
      ]
    },
    {
      "cell_type": "markdown",
      "metadata": {
        "id": "xvSRyzmYO1Aq"
      },
      "source": [
        "# マークダウンお得情報\n",
        "\n",
        "意外にあんまり書かれてないのですが，連続した文章中での改行はMarkdown記法的に\n",
        "\n",
        "* スペース２個を文末に設置（文末以外では無効）\n",
        "\n",
        "です．&lt;br&gt;でっ！という記述もあって間違っては無い(空行挿入というのもあるのですが個人的に却下)のですが，Markdown記法からは外れているので，ipynbの変換先によっては無視されたりして哀しい想いをすることあるかも．  \n",
        "これは結構闇深い問題で，markdown / new line / line break / newline / two space / double space / render ぐらいで検索すると闇のココロを持ったgeekに一歩近づけることでしょう‥\n"
      ]
    },
    {
      "cell_type": "markdown",
      "metadata": {
        "id": "_1GNjUd3m21U"
      },
      "source": [
        "#**Course Info**\n",
        "\n",
        "https://github.com/kameda-yoshinari/DataAlgo-UT  \n",
        "授業名: データ構造とアルゴリズム  \n",
        "筑波大学 工学システム学類  \n",
        "作者: 亀田能成  \n",
        "2023.04.19.  \n",
        "2022.04.27.  \n",
        "\n"
      ]
    }
  ]
}