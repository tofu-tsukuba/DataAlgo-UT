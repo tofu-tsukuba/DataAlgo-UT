{
  "nbformat": 4,
  "nbformat_minor": 0,
  "metadata": {
    "colab": {
      "name": "DataAlgo_UT(011)_KnightTour",
      "provenance": [],
      "collapsed_sections": [
        "yRmydXneMgT8",
        "4s3BWazcz1FB",
        "dd-hVe7gXiCk",
        "5QkNub1bXi1l",
        "DY_MbwoPf_9h",
        "cZ-1SycnqxVa"
      ],
      "authorship_tag": "ABX9TyOJFFJNhCQ4EUVzUEp8LEPf",
      "include_colab_link": true
    },
    "kernelspec": {
      "name": "python3",
      "display_name": "Python 3"
    }
  },
  "cells": [
    {
      "cell_type": "markdown",
      "metadata": {
        "id": "view-in-github",
        "colab_type": "text"
      },
      "source": [
        "<a href=\"https://colab.research.google.com/github/kameda-yoshinari/DataAlgo-UT/blob/main/DataAlgo_UT(011)_KnightTour.ipynb\" target=\"_parent\"><img src=\"https://colab.research.google.com/assets/colab-badge.svg\" alt=\"Open In Colab\"/></a>"
      ]
    },
    {
      "cell_type": "markdown",
      "metadata": {
        "id": "yRmydXneMgT8"
      },
      "source": [
        "# 6. 問題解決\n",
        "\n",
        "ここからは、グラフを離れ、問題解決（解の探索）の学習に入る。  \n",
        "ある種類の問題においては，与えられた問題の解を得るためのアルゴリズムを発明できたとしても，実際に解を得ることが非常に難しいとされる．  \n",
        "解を得るのが難しい理由は，「計算」にある．  \n",
        "解を得るための計算に時間がかかり過ぎるとなると，それは実際には解を得ることができないのと同義である．  \n",
        "本授業では，最初に概要を説明した後，有名な問題をピックアップして学習を進めていく．\n",
        "\n",
        "**いつもの約束**  \n",
        "１つのコードセルだけの実行は Ctrl + Enter．  \n",
        "エディタで「インデント幅（スペース）は4で表示」「行番号を表示」「インデントガイドを表示」．  \n",
        "内部では日本語はUTF-8で表現されている．\n",
        "\n",
        "# 6.1. 全解探索法\n",
        "\n",
        "全解探索法は，ブルートフォース・サーチ，網羅的サーチとも呼ばれる．  \n",
        "ある与えれた問題に対して，解決策を見つけるためのアルゴリズムを考案するのが難しい場合がある．  \n",
        "そのような場合でも，解そのものではなく、解の候補なら単純なアルゴリズムで求められる可能性がある．  \n",
        "解の候補が得られた後で，候補の中でどれが本当の解なのかを確認するためには，問題定義に合った解候補の検証プロセスを実行すればよい．\n",
        "\n",
        "全解探索法は，以下の条件が満たされている場合に，解決策を見つけるアプローチとして用いることができる．\n",
        "\n",
        "* 解候補を見つけ出すアルゴリズムが実装可能\n",
        "* 解候補には必ず全ての解が含まれていることを保証できること\n",
        "* 解候補が解であるかどうかの検証作業に時間がかからないこと\n",
        "* 解決策候補の数が計算量の範囲内であること\n",
        "\n",
        "また，問題解決の難易度を評価するために，全解探索法が用いられることがある．  \n",
        "解答候補の数が急激に増える（組合せ爆発）場合，その問題を解くことは難しいと考えられる．\n",
        "\n",
        ">Brute-force search  \n",
        "https://en.wikipedia.org/wiki/Brute-force_search \n",
        "\n",
        "# 6.2. バックトラック法\n",
        "\n",
        "バックトラック法もまた，与えられた問題の解を見つけるためのアルゴリズムである．  \n",
        "全解探索とは異なり，解候補の探索の途中でその解候補が問題の要求を満たすことができないことが明らかになった時点で，その先の探索を中止し，他の解候補を探しに戻る方法である．\n",
        "\n",
        ">Backtracking  \n",
        "https://en.wikipedia.org/wiki/Backtracking\n",
        "\n",
        "これを理解するために，幾つかの有名な例で学習を進める．\n",
        "\n",
        "\n",
        "# 6.2.1. 騎士の巡回 (Knight tour)\n",
        "\n",
        "全解探索法とバックトラック法の実際例として，騎士の巡回問題を取り上げる．\n",
        "\n",
        "騎士の巡回問題を学び，アルゴリズムを開発し確実に答えを探索できるとわかっていても，計算量の限界から実質的に答えを得ることができない問題があることを理解する．\n",
        "\n"
      ]
    },
    {
      "cell_type": "markdown",
      "metadata": {
        "id": "CdQdV_MJIlce"
      },
      "source": [
        "# 準備\n",
        "\n",
        "インスタンスに接続し起動する．  \n",
        "下記の手順でGoogle Driveをマウントする．  \n",
        "マウント先に移動し，作業フォルダとする．  \n",
        "これによって，インスタンスがリセットされてもGoogle Drive内にファイルが保存されるようにする．"
      ]
    },
    {
      "cell_type": "code",
      "metadata": {
        "id": "DMtqXRXJIPMR"
      },
      "source": [
        "!echo \"Google Driveをマウントします\"\n",
        "from google.colab import drive \n",
        "drive.mount('/content/drive')"
      ],
      "execution_count": null,
      "outputs": []
    },
    {
      "cell_type": "code",
      "metadata": {
        "id": "SABzmuELIaj2"
      },
      "source": [
        "!echo \"今回の作業用フォルダを作成しそこに移動します\"\n",
        "%cd /content/drive/My\\ Drive/\n",
        "%mkdir -p UT_DataAlgo/DA_011\n",
        "%cd       UT_DataAlgo/DA_011\n",
        "!ls\n",
        "!echo \"日本時間表示\"\n",
        "!rm /etc/localtime\n",
        "!ln -s /usr/share/zoneinfo/Japan /etc/localtime\n",
        "!date"
      ],
      "execution_count": null,
      "outputs": []
    },
    {
      "cell_type": "markdown",
      "metadata": {
        "id": "4s3BWazcz1FB"
      },
      "source": [
        "# 騎士の巡回\n",
        "\n",
        "**問題の定義**\n",
        "\n",
        "チェスのナイトは移動先を8つの中から選べる．  \n",
        "選べる移動先は，前後左右に2マス進んだ後，どちらかの直角方向に1マス進んだ位置のいずれかである．  \n",
        "\n",
        "騎士の巡回 (Knight tour) とは，\n",
        "\n",
        "1. チェスの盤(通常は8x8のサイズ)の中で\n",
        "2. ナイトの移動方法のみで\n",
        "3. 各マスは一度のみ通過して\n",
        "4. 一定回数移動することで(63手かけて)\n",
        "5. 全マスを訪れる\n",
        "\n",
        "ことができるかどうかを調べる問題である．\n",
        "\n",
        "もしこの問題に対する解答が「はい」ならば，次はその解の数も求めるべきであろう．\n",
        "\n",
        "なお，最終移動の次の移動で開始マスに戻れる場合，騎士の周遊 (Knight tour round)という．  \n",
        "騎士の周遊の探索ならどこを開始マスに選んでも結果は同じである．\n",
        "\n"
      ]
    },
    {
      "cell_type": "markdown",
      "metadata": {
        "id": "dd-hVe7gXiCk"
      },
      "source": [
        "# 騎士の巡回における全解探索法\n",
        "\n",
        "全解探索として，「ナイトの移動方法のみで」「一定回数移動することで(63手かけて)」(上記の2., 4.)のみを考慮して解候補を生成する方法を考える．\n",
        "\n",
        "最初にナイトが盤上に置いてあるとする．\n",
        "残りは63マスである．\n",
        "つまり，63回移動を繰り返して，それが丁度全てのマスを塗りつぶしていれば解であると言える．\n",
        "\n",
        "1回の移動で選択肢は8あるので，考えられる解候補は 8<sup>63</sup> (8の63乗)通りあることになる．\n",
        "\n",
        "解候補の十分条件の確認には，「チェスの盤(通常は8x8のサイズ)の中で」「各マスは一度のみ通過して」「全マスを訪れる」(1/3/5)を確認する必要がある．これは解候補による移動状況を調べるだけで可能であり，高々8<sup>2</sup>のコストが必要である．\n",
        "\n",
        "8<sup>63</sup> 通りが全解探索における解候補数である．これだけの解候補をすべて検証すれば，解があるかどうかの判定は必ず終了する．\n",
        "\n",
        "> 8<sup>63</sup> = 2<sup>189</sup> >= 10<sup>189 x 0.3010</sup> = 10<sup>56.889</sup>\n",
        "\n",
        "1命令で1候補を検証できる処理ノードを10億個有する並列スーパーコンピュータがあったとしよう．  \n",
        "その動作周波数が1.0THzだとすると1秒間に10<sup>12</sup> x 10<sup>9</sup> = 10<sup>21</sup>の解候補検証ができる．\n",
        "\n",
        "> 10<sup>21</sup> x 60 x 60 x 24 x 365.2422 <= 3.15 x 10<sup>28</sup>\n",
        "\n",
        "だけの候補を年あたり検証できる．  \n",
        "つまり，10<sup>57</sup> / (3.15 x 10<sup>28</sup>) 年 = 10<sup>28</sup>年以上の年月が必要となる．  \n",
        "一方で，私たちの宇宙の寿命は（学説にもよるが），約1.5×10<sup>11</sup>年程度しかない．\n",
        "\n",
        "ちなみに，2020/06現在でのSuper Computerの第一位は（久々に）日本の[fugaku](https://ja.wikipedia.org/wiki/%E5%AF%8C%E5%B2%B3_(%E3%82%B9%E3%83%BC%E3%83%91%E3%83%BC%E3%82%B3%E3%83%B3%E3%83%94%E3%83%A5%E3%83%BC%E3%82%BF))で，415PFLOPS(415 x 10<sup>15</sup> FLoating Operation Per Second)である．  \n",
        "先ほどのスーパーコンピュータの処理能力は 10<sup>21</sup> 解候補 / 秒 である．fugakuを2,000台ぐらい導入すれば同等と言えなくもなかろう．  \n",
        "参考までに，2022/06現在で 1 Exa Flops のスーパーコンピュータ [Oakridge Frontier](https://ja.wikipedia.org/wiki/Frontier_(%E3%82%B9%E3%83%BC%E3%83%91%E3%83%BC%E3%82%B3%E3%83%B3%E3%83%94%E3%83%A5%E3%83%BC%E3%82%BF)) が米国から発表された(fugakuの2倍強の速度で，これによりfugakuは計算速度1位から2位に落ちた)．こちらなら1,000台程度．ちなみに1台6億ドル程度らしい．  \n",
        "いずれにせよ，議論するのが馬鹿らしくなるレベルである．"
      ]
    },
    {
      "cell_type": "markdown",
      "metadata": {
        "id": "oouvPzhWxQM9"
      },
      "source": [
        "# 全解探索法のCプログラム\n",
        "\n",
        "**目標**\n",
        "\n",
        "盤の横縦サイズ (boardsize.x と boardsize.y) と開始マスを指定して，ナイトで塗りつぶしができるかどうかを判定するプログラムを作成する．\n",
        "起動時に，第1,第2引数で盤の横縦の大きさを，第3,第4引数で開始マスを指定する．\n",
        "\n",
        "**説明**\n",
        "\n",
        "XY座標については，vec2i構造体を導入する．\n",
        "全解探索では，全マス数 - 1 の手まで全ての考えられる経路を挙げる．  \n",
        "解候補の一つ一つについて解であるかどうかを確認する．  \n",
        "全ての解候補を挙げていくために深さ優先探索を用いる．\n",
        "\n",
        "**プログラム**\n",
        "\n",
        "kpath[]配列で全手の移動の様子を記録する．一手ごとにナイトの8方向移動のうちの一つが選択されるので，それを記録していく．\n",
        "kpath[]で表現する解候補は，残念ながらほとんどの場合は盤に収まらない．状況確認のため，盤に載った場合のみ表示する関数を用意する．盤上での手の表記は，初期位置(初手)を1とする．  \n",
        "(マスの表記で0は未踏を示す)\n",
        "\n",
        "**備考**\n",
        "\n",
        "状態を標準出力で確認しやすいよう，出力の細かさを制御するverboselevel変数を用意する．起動時の第５引数で指定し，0以上(4以下)で値が大きい方が細かくなる．"
      ]
    },
    {
      "cell_type": "code",
      "metadata": {
        "id": "kIknJ7fzZdeF"
      },
      "source": [
        "%%writefile knighttour-bluteforce_J.c\n",
        "// Knight tour by bluteforce search\n",
        "// kameda[at]ccs.tsukuba.ac.jp, 2020.\n",
        "#include <stdio.h>  // printf\n",
        "#include <stdlib.h> // atoi\n",
        "\n",
        "#define M 8 // ナイトの移動選択肢数\n",
        "\n",
        "// ２次元座標\n",
        "typedef struct {int x; int y;} vec2i;\n",
        "\n",
        "// ナイトの移動先（相対移動量）\n",
        "vec2i move[M] = {\n",
        "\t{ 2 ,1},\n",
        "\t{ 1, 2},\n",
        "\t{-1, 2},\n",
        "\t{-2, 1},\n",
        "\t{-2,-1},\n",
        "\t{-1,-2},\n",
        "\t{ 1,-2},\n",
        "\t{ 2,-1}\n",
        "};\n",
        "\n",
        "// 経路の表現\n",
        "int *kpath = NULL; // 各手のナイトの方向を記録\n",
        "\n",
        "// 盤の表現\n",
        "int *board = NULL; // (x,y)の値は board[y * boardsize.x + x] で参照\n",
        "vec2i boardsize = {0, 0};\n",
        "\n",
        "// 初期位置（騎士の周遊の判定用）\n",
        "vec2i spt = {0, 0};\n",
        "\n",
        "int knighttour      = 0; // 騎士の巡回 の解数\n",
        "int knighttourround = 0; // 騎士の周遊 の解数\n",
        "int verboselevel    = 0; // 表示レベル (0で最小)\n",
        "\n",
        "// 盤の座標へのアクセス\n",
        "int boardindex(vec2i pt){\n",
        "\treturn (pt.y * boardsize.x + pt.x);\n",
        "}\n",
        "\n",
        "// 盤の整備と現在位置\n",
        "//    s手目まで確定しているとする．\n",
        "//    初期位置(初手)は spt で与えられているので，残りs-1手．\n",
        "//    つまり kpath[0], ... , kpath[s-2] までを参照して盤を表現する．\n",
        "vec2i board_from_path(int s){\n",
        "    int c;\n",
        "\tvec2i pt;\n",
        " \n",
        "    for (c = 0; c < boardsize.x * boardsize.y; c++) {\n",
        "        board[c] = 0; // 未踏\n",
        "    }\n",
        "    board[boardindex(spt)] = 1; // 初手\n",
        "    pt = spt;\n",
        "    if (verboselevel >= 3) printf(\"** - (%d, %d) - at %d\\n\", pt.x, pt.y, s);\n",
        "    for (c = 0; c < s - 1; c++) {\n",
        "        pt.x += move[kpath[c]].x;\n",
        "        pt.y += move[kpath[c]].y;\n",
        "        if (verboselevel >= 3) printf(\">> %d (%d, %d) %d at %d\\n\", c, pt.x, pt.y, kpath[c], s);\n",
        "        if (pt.x >= 0 && pt.x < boardsize.x &&\n",
        "            pt.y >= 0 && pt.y < boardsize.y ) {\n",
        "            board[boardindex(pt)] = c + 2; // 移動先が盤内のときは表記\n",
        "        }\n",
        "    }\n",
        "    return pt;\n",
        "}\n",
        " \n",
        "// 盤の表示(左右をx軸，上下をy軸とする)\n",
        "void showboard(void){\n",
        "    vec2i pt;\n",
        " \tfor (pt.y = 0; pt.y < boardsize.y; pt.y++) {\n",
        "\t\tfor (pt.x = 0; pt.x < boardsize.x; pt.x++) {\n",
        "\t\t\tprintf(\"%2d \", board[boardindex(pt)]);\n",
        "\t\t}\n",
        "\t\tprintf(\"\\n\");\n",
        "\t}\n",
        "\treturn ;\n",
        "}\n",
        "\n",
        "// 騎士の巡回の判定\n",
        "int check_knighttour(void){\n",
        "\tint c;\n",
        "    \n",
        "    for (c = 0; c < boardsize.x * boardsize.y; c++) {\n",
        "        if (board[c] <= 0)\n",
        "            return 0;\n",
        "    }\n",
        "\treturn 1;\n",
        "}\n",
        "\n",
        "// 騎士の周遊の判定\n",
        "int check_knighttourround(vec2i pt){\n",
        "\tint d;\n",
        "\tfor (d = 0; d < M; d++) {\n",
        "\t\tif (pt.x + move[d].x == spt.x && \n",
        "\t\t    pt.y + move[d].y == spt.y) {\n",
        "\t\t\treturn 1;\n",
        "\t\t}\n",
        "\t}\n",
        "\treturn 0;\n",
        "}\n",
        "\n",
        "// 解の探索\t\n",
        "//   int n_move; number of moves to examine here\n",
        "void knighttouronestep_bf(int n_move){\n",
        "    vec2i cpt;\n",
        "\tint d; // choice of direction\n",
        "\n",
        "    if (verboselevel >= 2) printf(\"-- %d cells fixed --\\n\", n_move);\n",
        "\n",
        "    cpt = board_from_path(n_move);\n",
        "    if (verboselevel >= 2) showboard();\n",
        "\n",
        "\t// 解判定\n",
        "\tif (n_move == boardsize.x * boardsize.y) {\n",
        "        // 騎士の巡回の解か？\n",
        "        if (check_knighttour() > 0) {\n",
        "            knighttour++;\n",
        "            // 騎士の周遊の解か？\n",
        "            knighttourround += check_knighttourround(cpt);\n",
        "            // 解の表示\n",
        "\t\t    if (verboselevel >= 1) {\n",
        "\t\t\t    printf(\"Answer found (%d / %d).\\n\", knighttour, knighttourround);\n",
        "\t    \t\tshowboard();\n",
        "\t    \t}\n",
        "        }\n",
        "        return ; // 終了せずに解の探索を継続\n",
        "\t}\n",
        "\t\n",
        "\t// 解探索\n",
        "\tfor (d = 0; d < M; d++) {\n",
        "\t\tkpath[n_move - 1] = d; // １歩前進した分を記録\n",
        "\t\tknighttouronestep_bf(n_move + 1); // recursive call ; depth first\n",
        "\t}\n",
        "\treturn ;\n",
        "}\n",
        "\n",
        "// メイン関数\n",
        "//   盤のXサイズ 盤のYサイズ 開始X座標 開始Y座標\n",
        "int main(int argc, char *argv[]){\n",
        "\n",
        "\t// 引数の確認\n",
        "    if (argc != 6) {\n",
        "        printf(\"盤のXサイズ, 盤のYサイズ, 開始X座標, 開始Y座標, 表示レベル の５つを指定してください．\\n\");\n",
        "        printf(\"これらの指定がなかったので終了します．\\n\");\n",
        "        return -1;\n",
        "    }\n",
        "    // 第1,2引数で盤の大きさ\n",
        "\tboardsize.x = atoi(argv[1]);\n",
        "\tboardsize.y = atoi(argv[2]);\n",
        "    // 第3,4引数で開始マス\n",
        "\tspt.x = atoi(argv[3]);\n",
        "\tspt.y = atoi(argv[4]);\n",
        "    // verbose level\n",
        "\tverboselevel = atoi(argv[5]);\n",
        "\tprintf(\"board_size = (%d, %d), start_point = (%d, %d), verbose level = %d\\n\", boardsize.x, boardsize.y, spt.x, spt.y, verboselevel);\n",
        "\tif (boardsize.x < 0 || boardsize.y < 0 || \n",
        "\t    spt.x < 0 || spt.x >= boardsize.x || \n",
        "\t\tspt.y < 0 || spt.y >= boardsize.y) {\n",
        "\t\tprintf(\"引数が正しくないので終了します．\\n\");\n",
        "\t}\n",
        "\tif ((kpath = calloc(boardsize.x * boardsize.y, sizeof(int))) == NULL) {\n",
        "\t\tprintf(\"経路用の%d要素のメモリ確保に失敗したの終了します．\\n\", boardsize.x * boardsize.y);\n",
        "\t\treturn -2;\n",
        "\t}\n",
        "\tif ((board = calloc(boardsize.x * boardsize.y, sizeof(int))) == NULL) {\n",
        "\t\tprintf(\"盤用の%d要素のメモリ確保に失敗したの終了します．\\n\", boardsize.x * boardsize.y);\n",
        "\t\treturn -2;\n",
        "\t}\n",
        "\tknighttouronestep_bf(1); // 移動の一手目\n",
        "\n",
        "\tprintf(\"Result:\\n\");\n",
        "\tprintf(\"  Knight tour       %6d\\n\", knighttour);\n",
        "\tprintf(\"  Knight tour round %6d\\n\", knighttourround);\n",
        "\n",
        "\treturn 0;\n",
        "}\n"
      ],
      "execution_count": null,
      "outputs": []
    },
    {
      "cell_type": "markdown",
      "metadata": {
        "id": "5DFSjwEt2F2r"
      },
      "source": [
        "コンパイルしてバグがないことを確認する．  \n",
        "今回からは実行速度が問題になるので，最適化についても考慮すべきである．\n"
      ]
    },
    {
      "cell_type": "code",
      "metadata": {
        "id": "wxkAlYlCbUL7"
      },
      "source": [
        "!gcc -Wall -O2 -o knighttour-bluteforce_J knighttour-bluteforce_J.c"
      ],
      "execution_count": null,
      "outputs": []
    },
    {
      "cell_type": "markdown",
      "metadata": {
        "id": "yhPPNnki4LPz"
      },
      "source": [
        "実行においては，timeコマンドを用いて計測するとよい．  \n",
        "コマンド実行の前に time とつけて実行すると，実行時間を計測できる．  \n",
        "このうち，user属性がプログラム実行にかかった値である．\n",
        "\n",
        "**注意**\n",
        "\n",
        "実行確認している間は，盤のサイズを最小限の 3x3 程度にしておくこと．  \n",
        "3x3 では当然ではあるが解はない．\n",
        "おそらく，実行時間は1秒前後である(2020/06現在)．\n",
        "全解探索では，盤のサイズを大きくするとすぐに指数爆発を起こすので十分に注意すること．  \n",
        "例えば，3x3に対して，4x3の盤を実行する前に，どれぐらい時間がかかるか見積もってから実行すること．"
      ]
    },
    {
      "cell_type": "code",
      "metadata": {
        "id": "HzbLWL6zuVPR"
      },
      "source": [
        "!time ./knighttour-bluteforce_J 3 3 0 0 1"
      ],
      "execution_count": null,
      "outputs": []
    },
    {
      "cell_type": "markdown",
      "metadata": {
        "id": "d489oVVUBWz-"
      },
      "source": [
        "第5引数のverboselevelを上げるとcolab notebookの出力セルでは扱いきれなくなる（ブラウザに負荷がかかって操作不能になる）．  \n",
        "標準出力を外部ファイルに誘導し，実行終了後，google driveで確認する方法を試すこと．しかし，これですら猛烈にファイルサイズが大きくなることに注意．  \n",
        "例えば，3x3の盤でverboselevel 2ですら，標準出力を保存するファイル (下記の bluteforce33-00-2.txt) のファイルサイズは 914MB程度になる！  \n",
        "(出力ファイルをGoogle Drive連携するためのIO制御が増えるので，実行時間は大幅増加する）"
      ]
    },
    {
      "cell_type": "code",
      "metadata": {
        "id": "LJSnXIiZCDpa"
      },
      "source": [
        "!time ./knighttour-bluteforce_J 3 3 0 0 2 > bluteforce33-00-2.txt"
      ],
      "execution_count": null,
      "outputs": []
    },
    {
      "cell_type": "markdown",
      "metadata": {
        "id": "G9ZK8lWgrQUa"
      },
      "source": [
        "lsコマンドでファイルサイズが，wc -lでファイル内の行数（改行数）がわかる．"
      ]
    },
    {
      "cell_type": "code",
      "metadata": {
        "id": "RhiHIW2VDUte"
      },
      "source": [
        "!ls -sh bluteforce33-00-2.txt\n",
        "!wc -l  bluteforce33-00-2.txt"
      ],
      "execution_count": null,
      "outputs": []
    },
    {
      "cell_type": "markdown",
      "metadata": {
        "id": "LqqIM1s8rGsg"
      },
      "source": [
        "下記はファイルのうち先頭100行を表示するコマンド実行例である．  \n",
        "(100行だけでなくうっかり全行表示させようとでもしたらその瞬間にブラウザがフリーズするであろうから注意）"
      ]
    },
    {
      "cell_type": "code",
      "metadata": {
        "id": "kfpgeOhdVoyn"
      },
      "source": [
        "!head -100 bluteforce33-00-2.txt"
      ],
      "execution_count": null,
      "outputs": []
    },
    {
      "cell_type": "markdown",
      "metadata": {
        "id": "zxu1mTvkGT3q"
      },
      "source": [
        "盤を4x3にしての実行例が下記であるが，3x3の実行時間を元に，実行時間を見積もってから実行すること．  \n",
        "(3x3の盤で9マスあるときに1秒かかるなら，4x3の盤で12マスあるならどうなるであろう？たかが3マスの差である．しかし，1マス増えることに解候補はどれだけ増えるのか？)  \n"
      ]
    },
    {
      "cell_type": "code",
      "metadata": {
        "id": "mKjCepMR6lT7"
      },
      "source": [
        "!time ./knighttour-bluteforce_J 4 3 0 0 1"
      ],
      "execution_count": null,
      "outputs": []
    },
    {
      "cell_type": "markdown",
      "metadata": {
        "id": "lZYzTrRBBUyw"
      },
      "source": [
        "さらに盤を4x4にしての実行例が下記である．実行前によくよく見積もりを行うこと．  \n",
        "（見積もってみれば実行してはいけないとわかりそうなものである）"
      ]
    },
    {
      "cell_type": "code",
      "metadata": {
        "id": "t7LSvS9V6Wil"
      },
      "source": [
        "!time ./knighttour-bluteforce_J 4 4 0 0 1 > bluteforce44-00-1.txt"
      ],
      "execution_count": null,
      "outputs": []
    },
    {
      "cell_type": "markdown",
      "metadata": {
        "id": "5QkNub1bXi1l"
      },
      "source": [
        "# バックトラック法\n",
        "\n",
        "全解探索の方法において，解が満たすべき条件を考え，探索においてその先に条件を満たす解が得られないことが自明な場合，その時点で引き返す方法をバックトラック(backtrack) 法という．後戻り法とも呼ばれる．\n",
        "\n",
        "バックトラックを行えば，実効上，計算時間を削減できることになる．  \n",
        "一方で，計算量がビッグオー表現として削減できているかどうかについては慎重な議論が必要である．（ビッグオー表現では最悪値を考えなければならないことに注意する．）\n",
        "\n",
        "騎士の巡回における今回のアルゴリズムでは，\n",
        "\n",
        "* 盤の外に出る\n",
        "* 以前に訪れたことがあるマスをもう一度訪れる\n",
        "\n",
        "のどちらかに合致した時点でバックトラックする（深さ優先探索において後戻りする）．\n",
        "\n",
        "ここで注意すべきは，バックトラック法を行っても，解の探索結果は全解探索と同一であるということである．\n"
      ]
    },
    {
      "cell_type": "markdown",
      "metadata": {
        "id": "Zy3sSTwQ7Nn9"
      },
      "source": [
        "# バックトラック法によるCプログラム\n",
        "\n",
        "**目標**\n",
        "\n",
        "目標は全解探索によるCプログラムと同じであるが，バックトラック法により高速化を図る．\n",
        "\n",
        "**説明**\n",
        "\n",
        "XY座標については，vec2i構造体を導入する．\n",
        "バックトラック法では，２条件とも問題ない場合のみ先に進む．言い換えれば，移動先が盤内であってかつ新しいマスであれば先に進む．\n",
        "もっとも重要な点は，バックトラックする際に，一旦書いた記録を消去し，現状復元することである．すなわち，本プログラムでは探索を先に進めるときに「１歩前進した分を記録」し，戻るときに**「１歩前進したときの記録を消去」**する．\n",
        "\n",
        "**コード**\n",
        "\n",
        "２次元に広がる盤そのものをboard[]配列で表現し，手番号(1からN<sup>2</sup>まで)を記入する．値0は未踏を表す．\n",
        "\n",
        "**備考**\n",
        "\n",
        "状態を標準出力で確認しやすいよう，出力の細かさを制御するverboselevel変数を用意する．起動時の第５引数で指定し，0以上(2以下)で値が大きい方が細かくなる．\n"
      ]
    },
    {
      "cell_type": "code",
      "metadata": {
        "id": "Eo2CM8EqZi97"
      },
      "source": [
        "%%writefile knighttour-backtrack_J.c\n",
        "// Knight tour by backtrack search\n",
        "// kameda[at]ccs.tsukuba.ac.jp, 2020.\n",
        "#include <stdio.h>  // printf\n",
        "#include <stdlib.h> // atoi\n",
        "\n",
        "#define M 8 // ナイトの移動選択肢数\n",
        "\n",
        "// ２次元座標\n",
        "typedef struct {int x; int y;} vec2i;\n",
        "\n",
        "// ナイトの移動先（相対移動量）\n",
        "vec2i move[M] = {\n",
        "\t{ 2 ,1},\n",
        "\t{ 1, 2},\n",
        "\t{-1, 2},\n",
        "\t{-2, 1},\n",
        "\t{-2,-1},\n",
        "\t{-1,-2},\n",
        "\t{ 1,-2},\n",
        "\t{ 2,-1}\n",
        "};\n",
        "\n",
        "// 盤の表現\n",
        "int *board = NULL; // (x,y)の値は board[y * boardsize.x + x] で参照\n",
        "vec2i boardsize = {0, 0};\n",
        "\n",
        "// 初期位置（騎士の周遊の判定用）\n",
        "vec2i spt = {0, 0};\n",
        "\n",
        "int knighttour      = 0; // 騎士の巡回 の解数 \n",
        "int knighttourround = 0; // 騎士の周遊 の解数\n",
        "int verboselevel    = 0; // 表示レベル (0で最小)\n",
        "\n",
        "// 盤の座標へのアクセス\n",
        "int boardindex(vec2i pt){\n",
        "\t  return (pt.y * boardsize.x + pt.x);\n",
        "}\n",
        "\n",
        "// 盤の表示(左右をx軸，上下をy軸とする)\n",
        "void showboard(void){\n",
        "\tvec2i pt;\n",
        "\tfor (pt.y = 0; pt.y < boardsize.y; pt.y++) {\n",
        "\t\tfor (pt.x = 0; pt.x < boardsize.x; pt.x++) {\n",
        "\t\t\tprintf(\"%2d \", board[boardindex(pt)]);\n",
        "\t\t}\n",
        "\t\tprintf(\"\\n\");\n",
        "\t}\n",
        "\treturn ;\n",
        "}\n",
        "\n",
        "// 騎士の周遊の判定\n",
        "int check_knighttourround(vec2i pt){\n",
        "\tint d;\n",
        "\tfor (d = 0; d < M; d++) {\n",
        "\t\tif (pt.x + move[d].x == spt.x && \n",
        "\t\t    pt.y + move[d].y == spt.y) {\n",
        "\t\t\treturn 1;\n",
        "\t\t}\n",
        "\t}\n",
        "\treturn 0;\n",
        "}\n",
        "\n",
        "// 解の探索 (backtrack)\n",
        "//   vec2i cpt; current point\n",
        "//   int n_move; number of fixed moves\n",
        "void knighttouronestep_bt(vec2i cpt, int n_move){\n",
        "\tvec2i npt; // next point\n",
        "\tint d; // choice of direction\n",
        "\n",
        "    if (verboselevel >= 2) printf(\"-- %d cells fixed --\\n\", n_move);\n",
        "\tif (verboselevel >= 2) showboard();\n",
        "\n",
        "\t// 解判定\n",
        "\tif (n_move == boardsize.x * boardsize.y) { \n",
        "\t    // 騎士の巡回の解（確定）\n",
        "\t\tknighttour++; \n",
        "\t\t// 騎士の周遊の解か？\n",
        "\t\tknighttourround += check_knighttourround(cpt);\n",
        "\t\t// 解の表示\n",
        "\t\tif (verboselevel >= 1) {\n",
        "\t\t\tprintf(\"Answer found (%d / %d).\\n\", knighttour, knighttourround);\n",
        "\t\t\tshowboard();\n",
        "\t\t}\n",
        "\t\treturn ; // 終了せずに解の探索を継続\n",
        "\t}\n",
        "\t\n",
        "\t// 解探索\n",
        "\tfor (d = 0; d < M; d++) {\n",
        "\t\t// 移動先座標\n",
        "\t\tnpt.x = cpt.x + move[d].x;\n",
        "\t\tnpt.y = cpt.y + move[d].y;\n",
        "\t\tif (npt.x >= 0 && npt.x < boardsize.x &&\n",
        "\t\t    npt.y >= 0 && npt.y < boardsize.y &&\n",
        "\t\t\tboard[boardindex(npt)] == 0) {\n",
        "\t\t\tboard[boardindex(npt)] = n_move + 1;   // １歩前進した分を記録\n",
        "\t\t\tknighttouronestep_bt(npt, n_move + 1); // recursive call ; depth first\n",
        "\t\t\t// Backtrack\n",
        "\t\t\tboard[boardindex(npt)] = 0;            // １歩前進した分を抹消(原状復元)\n",
        "\t\t}\n",
        "\t}\n",
        "\treturn ;\n",
        "}\n",
        "\n",
        "// メイン関数\n",
        "//   盤のXサイズ 盤のYサイズ 開始X座標 開始Y座標\n",
        "int main(int argc, char *argv[]){\n",
        "\n",
        "\t// 引数の確認\n",
        "    if (argc != 6) {\n",
        "        printf(\"盤のXサイズ, 盤のYサイズ, 開始X座標, 開始Y座標, 表示レベル の５つを指定してください．\\n\");\n",
        "        printf(\"これらの指定がなかったので終了します．\\n\");\n",
        "        return -1;\n",
        "    }\n",
        "\t// 第1,2引数で盤の大きさ\n",
        "\tboardsize.x = atoi(argv[1]);\n",
        "\tboardsize.y = atoi(argv[2]);\n",
        "\t// 第3,4引数で開始マス\n",
        "\tspt.x = atoi(argv[3]);\n",
        "\tspt.y = atoi(argv[4]);\n",
        "\tverboselevel = atoi(argv[5]);\n",
        "\tprintf(\"board_size = (%d, %d), start_point = (%d, %d), verbose level = %d\\n\", boardsize.x, boardsize.y, spt.x, spt.y, verboselevel);\n",
        "\tif (boardsize.x < 0 || boardsize.y < 0 || \n",
        "\t    spt.x < 0 || spt.x >= boardsize.x || \n",
        "\t\tspt.y < 0 || spt.y >= boardsize.y) {\n",
        "\t\tprintf(\"引数が正しくないので終了します．\\n\");\n",
        "\t}\n",
        "\tif ((board = calloc(boardsize.x * boardsize.y, sizeof(int))) == NULL) {\n",
        "\t\tprintf(\"盤用の%d要素のメモリ確保に失敗したの終了します．\\n\", boardsize.x * boardsize.y);\n",
        "\t\treturn -2;\n",
        "\t}\n",
        "\tboard[boardindex(spt)] = 1; // 初手\n",
        "\tknighttouronestep_bt(spt, 1);\n",
        "\n",
        "\tprintf(\"Result:\\n\");\n",
        "\tprintf(\"  Knight tour       %6d\\n\", knighttour);\n",
        "\tprintf(\"  Knight tour round %6d\\n\", knighttourround);\n",
        "\n",
        "\treturn 0;\n",
        "}\n"
      ],
      "execution_count": null,
      "outputs": []
    },
    {
      "cell_type": "markdown",
      "metadata": {
        "id": "zhechXUNbvva"
      },
      "source": [
        "\n",
        "コンパイルしてエラーが無いことを確認．"
      ]
    },
    {
      "cell_type": "code",
      "metadata": {
        "id": "UcFL-3AR8XSu"
      },
      "source": [
        "!gcc -Wall -o knighttour-backtrack_J knighttour-backtrack_J.c"
      ],
      "execution_count": null,
      "outputs": []
    },
    {
      "cell_type": "markdown",
      "metadata": {
        "id": "CxBI4UbEcB9L"
      },
      "source": [
        "実行．最初のうちは全解探索で実施した小さい盤のサイズから試すこと．  \n",
        "全解探索での実行時間からすれば，実行時間が劇的に削減される様子を確認されたい．  \n",
        "(しかしそれでも8x8は無茶である)\n"
      ]
    },
    {
      "cell_type": "code",
      "metadata": {
        "id": "O3zzVD4tcA3h"
      },
      "source": [
        "!time ./knighttour-backtrack_J 3 3 0 0 1"
      ],
      "execution_count": null,
      "outputs": []
    },
    {
      "cell_type": "markdown",
      "metadata": {
        "id": "yJzLBBOzKnAs"
      },
      "source": [
        "# 大きい数\n",
        "\n",
        "指数爆発の危険性がある問題についてプログラムを書く場合には，実行時間の他にも様々な限界に留意しなくてはいけない．\n",
        "例えば，解の数を表現するために上記プログラムではint型を利用しているが，これは適切ではない．\n",
        "\n",
        "8x8の盤で全解探索したときの解候補の数は8<sup>63</sup>であるが，これは2<sup>189</sup>である．つまり，8バイトのunsigned long型を使っても数え上げができない．桁あふれが途中で発生し得る．（解の数が64ビットで表現できる数字内に収まればよいが，そのこと自体はどうやって調べればよいのか？）"
      ]
    },
    {
      "cell_type": "code",
      "metadata": {
        "id": "ds17VnBEeIPs"
      },
      "source": [
        "%%writefile biginteger.c\n",
        "#include <stdio.h>\n",
        "#include <limits.h>\n",
        "int main(int argc, char *argv[]){\n",
        "    printf(\"整数型 int           の最大値 INT_MAX   %d\\n\", INT_MAX);\n",
        "    printf(\"整数型 long          の最大値 LONG_MAX  %ld\\n\", LONG_MAX);\n",
        "    printf(\"整数型 unsigned long の最大値 ULONG_MAX %lu\\n\", ULONG_MAX);\n",
        "    printf(\"整数型 unsigned long のビット数は %ld\\n\", sizeof(unsigned long) * 8);\n",
        "    return 0;\n",
        "}\n"
      ],
      "execution_count": null,
      "outputs": []
    },
    {
      "cell_type": "code",
      "metadata": {
        "id": "7YvVHDxKLJIW"
      },
      "source": [
        "!gcc -o biginteger biginteger.c\n",
        "!./biginteger"
      ],
      "execution_count": null,
      "outputs": []
    },
    {
      "cell_type": "markdown",
      "metadata": {
        "id": "DY_MbwoPf_9h"
      },
      "source": [
        "# 節末課題\n",
        "\n",
        "1. 全解探索法の計算量  \n",
        "knighttour-bluteforce_J プログラムの時間計算量と空間計算量を議論せよ．盤のマスの数をNとしてよい．\n",
        "\n",
        "2. バックトラック法の計算量  \n",
        "knighttour-backtrack_J プログラムの時間計算量と空間計算量を議論せよ．盤のマスの数をNとしてよい．\n",
        "\n",
        "3. バックトラック法での解候補の必要条件の実装  \n",
        "knighttour-backtrack_J プログラムにおいて，「チェスの8x8の盤の中で」「同じマスにを2度通ることなしに（63手かけて）」「ナイトの移動方法のみで」「塗りつぶす」ことを確認している実装部分をそれぞれ示せ．\n",
        "\n",
        "4. 解候補の十分条件の確認  \n",
        "knighttour-bluteforce_J プログラムと knighttour-backtrack_J プログラムのそれぞれにおいて，解候補が騎士の巡回問題の十分条件を満たしていることを確認している部分を抜き出してその内容を説明せよ．\n",
        "\n",
        "5. バックトラック時の記録抹消の意味  \n",
        "knighttour-backtrack_J プログラムにおいて，L97の再帰呼出によってその先の深さ優先探索を終えたあと，なぜL99のように記録を抹消しなくてはいけないのか，理由を説明せよ．\n",
        "\n",
        "6. verboselevelの説明  \n",
        "knighttour-bluteforce_J プログラムと knighttour-backtrack_J プログラムのそれぞれにおいて，verboselevelを0以上の値にすることで，それぞれ何が表示されることになるのか説明せよ．\n",
        "\n",
        "7. 実行速度の改善  \n",
        "knighttour-bluteforce_J プログラムと knighttour-backtrack_J プログラムでは実行速度が問題になる．そこで，gccのコンパイルオプションについて調べ，実際にそれが実行速度にどのような違いをもたらすかを調査せよ．実行時間が1分以上かかるような事例で調査すること．\n",
        "\n",
        "\n",
        "8. 大きい数への対処  \n",
        "大きい数に関する議論で述べたように，2<sup>189</sup>まで整数で数え上げる必要があるとき，Cプログラムでの実装にどのような方法が考えられるか説明せよ．\n",
        "\n",
        "\n"
      ]
    },
    {
      "cell_type": "markdown",
      "metadata": {
        "id": "cZ-1SycnqxVa"
      },
      "source": [
        "# 出典\n",
        "\n",
        "筑波大学工学システム学類  \n",
        "データ構造とアルゴリズム  \n",
        "担当：亀田能成  \n",
        "2022/06/08 文言修正  \n",
        "2022/05/31 時節に合わせて文言更新  \n",
        "2022/04/13 フォルダ構成を更新  \n",
        "2021/06/09 初版"
      ]
    }
  ]
}