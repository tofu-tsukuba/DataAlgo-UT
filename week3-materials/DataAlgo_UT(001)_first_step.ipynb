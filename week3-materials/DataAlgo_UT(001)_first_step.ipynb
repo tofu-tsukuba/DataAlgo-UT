{
  "nbformat": 4,
  "nbformat_minor": 0,
  "metadata": {
    "colab": {
      "name": "DataAlgo-UT(001) first step",
      "provenance": [],
      "collapsed_sections": [],
      "authorship_tag": "ABX9TyODJIS8p2kh0OiFEb5Wk028",
      "include_colab_link": true
    },
    "kernelspec": {
      "name": "python3",
      "display_name": "Python 3"
    }
  },
  "cells": [
    {
      "cell_type": "markdown",
      "metadata": {
        "id": "view-in-github",
        "colab_type": "text"
      },
      "source": [
        "<a href=\"https://colab.research.google.com/github/kameda-yoshinari/DataAlgo-UT/blob/main/DataAlgo_UT(001)_first_step.ipynb\" target=\"_parent\"><img src=\"https://colab.research.google.com/assets/colab-badge.svg\" alt=\"Open In Colab\"/></a>"
      ]
    },
    {
      "cell_type": "markdown",
      "metadata": {
        "id": "HQt1l5shZVQ1"
      },
      "source": [
        "#001: First step to google colaboratory\n",
        "---"
      ]
    },
    {
      "cell_type": "markdown",
      "metadata": {
        "id": "i2vKNOZ1ecz8"
      },
      "source": [
        "# Google Colaboratory at github\n",
        "\n",
        "このページは、最初の練習をするためのとてもシンプルなページです。  \n",
        "始める前に、すでにgoogle colaboratoryのチュートリアルを終えていることを前提としています。  \n",
        "https://colab.research.google.com/notebooks/welcome.ipynb?hl=ja  \n",
        "\n",
        "一通り学習が終わったらここに戻って次に進んでください。  \n"
      ]
    },
    {
      "cell_type": "markdown",
      "metadata": {
        "id": "pNb8UTvw7tyK"
      },
      "source": [
        "---\n",
        "# Taking the course material from github\n",
        "\n",
        "教材はgithubサイトで公開していきます。  \n",
        "https://github.com  \n",
        "https://github.com/kameda-yoshinari/DataAlgo-UT/  \n",
        "各コースの教材は ipynb (i-python notebook) 形式で作成されており、github で見ることができますし、google colaboratory でも（もちろん）利用できます。  \n",
        "\n",
        "「Colabで開く」アイコンをクリックすると、github上のページをcolaboratoryに取り込むことができます。  "
      ]
    },
    {
      "cell_type": "markdown",
      "metadata": {
        "id": "_1GNjUd3m21U"
      },
      "source": [
        "---\n",
        "#**Course Info**\n",
        "\n",
        "https://github.com/kameda-yoshinari/DataAlgo-UT  \n",
        "筑波大学工学システム学類  \n",
        "データ構造とアルゴリズム  \n",
        "担当：亀田能成  \n",
        "2022/04/27.  \n"
      ]
    }
  ]
}