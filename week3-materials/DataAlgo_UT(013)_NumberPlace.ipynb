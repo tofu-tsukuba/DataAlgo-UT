{
  "nbformat": 4,
  "nbformat_minor": 0,
  "metadata": {
    "colab": {
      "name": "DataAlgo_UT(013)_NumberPlace",
      "provenance": [],
      "collapsed_sections": [
        "yRmydXneMgT8",
        "4s3BWazcz1FB",
        "dd-hVe7gXiCk",
        "5QkNub1bXi1l",
        "DY_MbwoPf_9h"
      ],
      "authorship_tag": "ABX9TyNXqLR48IrnTBVIrCDaGo1T",
      "include_colab_link": true
    },
    "kernelspec": {
      "name": "python3",
      "display_name": "Python 3"
    }
  },
  "cells": [
    {
      "cell_type": "markdown",
      "metadata": {
        "id": "view-in-github",
        "colab_type": "text"
      },
      "source": [
        "<a href=\"https://colab.research.google.com/github/kameda-yoshinari/DataAlgo-UT/blob/main/DataAlgo_UT(013)_NumberPlace.ipynb\" target=\"_parent\"><img src=\"https://colab.research.google.com/assets/colab-badge.svg\" alt=\"Open In Colab\"/></a>"
      ]
    },
    {
      "cell_type": "markdown",
      "metadata": {
        "id": "yRmydXneMgT8"
      },
      "source": [
        "# 6.2.3. ナンバープレース (Number place)\n",
        "\n",
        "ナンバープレースは 数独 Sudoku とも呼ばれるペンシルパズルの一つである．本問題がバックトラック法によって解けることを示す．\n",
        "\n",
        "\n",
        "**いつもの約束**  \n",
        "１つのコードセルだけの実行は Ctrl + Enter．  \n",
        "エディタで「インデント幅（スペース）は4で表示」「行番号を表示」「インデントガイドを表示」．  \n",
        "内部では日本語はUTF-8で表現されている．\n"
      ]
    },
    {
      "cell_type": "markdown",
      "metadata": {
        "id": "CdQdV_MJIlce"
      },
      "source": [
        "# 準備\n",
        "\n",
        "インスタンスに接続し起動する．  \n",
        "下記の手順でGoogle Driveをマウントする．  \n",
        "マウント先に移動し，作業フォルダとする．  \n",
        "これによって，インスタンスがリセットされてもGoogle Drive内にファイルが保存されるようにする．"
      ]
    },
    {
      "cell_type": "code",
      "metadata": {
        "id": "DMtqXRXJIPMR"
      },
      "source": [
        "!echo \"Google Driveをマウントします\"\n",
        "from google.colab import drive \n",
        "drive.mount('/content/drive')"
      ],
      "execution_count": null,
      "outputs": []
    },
    {
      "cell_type": "code",
      "metadata": {
        "id": "SABzmuELIaj2"
      },
      "source": [
        "!echo \"今回の作業用フォルダを作成しそこに移動します\"\n",
        "%cd /content/drive/My\\ Drive/\n",
        "%mkdir -p UT_DataAlgo/DA_013\n",
        "%cd       UT_DataAlgo/DA_013\n",
        "!ls\n",
        "!echo \"日本時間表示\"\n",
        "!rm /etc/localtime\n",
        "!ln -s /usr/share/zoneinfo/Japan /etc/localtime\n",
        "!date"
      ],
      "execution_count": null,
      "outputs": []
    },
    {
      "cell_type": "markdown",
      "metadata": {
        "id": "4s3BWazcz1FB"
      },
      "source": [
        "# ナンバープレース\n",
        "\n",
        "**問題**\n",
        "\n",
        "数字の1から9を使う．9x9の盤を，それぞれの数字を9回使って全81マスを埋める問題である．  \n",
        "ただし，以下の3条件を全て満たす数の配置をナンバープレースの解とする．\n",
        "\n",
        "* 各列は1から9を1度ずつ用いて埋める．\n",
        "* 各行は1から9を1度ずつ用いて埋める．\n",
        "* 3x3の9つの小ブロックに分け，各小ブロックも1から9を1度ずつ用いて埋める．\n",
        "\n",
        "明らかに，これを満たす解は（数が多いとはいえ）有限である．  \n",
        "厳密な解の数え上げは本授業では扱わない．\n",
        "\n",
        "> https://ja.wikipedia.org/wiki/Sudoku  \n",
        "> https://en.wikipedia.org/wiki/Sudoku (英語版の方が詳述されている)\n",
        "\n",
        "**人間向けの解法**\n",
        "\n",
        "パズルとしては81マスのうち30マス程度がすでに埋まっている．つまり，残りの空マスに入れるべき数字を探索するのが解の探索となる．\n",
        "\n",
        "ナンバープレースの解法については，巷でたくさんの方法が紹介されているが，これらはいずれも「人間の頭の特性」に合わせた解法である．そのため，もし，ナンバープレースを自動的に解くプログラムを作ろうと思うのなら，**これらの解法に従うのは愚策**である．\n",
        "\n",
        "例えば，多くの人間にとって，同時に複数の解候補を正確に覚え続けていることは大変困難である．また，複数の解候補を瞬時に切り替えながら評価することも苦手である．ナンバープレースで上級と呼ばれる問題では，解の探索のごく初期から複数の選択肢を同時に考え続けなくてはいけないようにしてあったりする．こうしたことは人間は苦手であるが，コンピュータにとっては何の問題もない．\n",
        "\n",
        "実際，あとで確認できることであるが，バックトラック法のプログラムによってナンバープレースの問題を解かせると，初級問題も上級問題もほぼ何の違いもなく解を得る．\n",
        "\n",
        "計算量の観点から考えるならば，空マスが多いほど解候補が増えて計算量が増えることが予想される．ところが，人間向けの初級問題から上級問題については，上級だからといって空マスが多いわけではない．このことからも，「初級」「上級」というのはあくまで人間の頭の特性に対してであって，アルゴリズム論的な意味ではないことが伺える．\n",
        "\n",
        "なお，余談ではあるが，パズルとしては解が1つのみになるよう調節してあることがほとんどである(が，それは人間相手に出題して正解を載せるときの都合であって，問題設定としては複数の解が存在する問題を用意することはいくらでも可能である）．\n",
        "\n",
        "\n"
      ]
    },
    {
      "cell_type": "markdown",
      "metadata": {
        "id": "dd-hVe7gXiCk"
      },
      "source": [
        "# 全解探索法\n",
        "\n",
        "**案A**\n",
        "\n",
        "3条件のうちの1つのみを解候補の生成に用いるとすると，解候補の数は (9!)<sup>9</sup>と考えることができる．残りの2条件の確認には，2 x 9 x 9 程度必要であろうから，結局，全体としての計算コストは (9!)<sup>9</sup> x 2 x 9<sup>2</sup> 程度になる．（ここでは問題のサイズが固定なのでビッグオー表現を用いていないことに注意する．）\n",
        "\n",
        "実際には，すでに埋まっているマスでは数字の選択を考慮する必要がないから，これよりは（ずっと）計算量が少なくて済むことが予想される．ただし，それでも現実的に行える解候補の数ではない．\n",
        "\n",
        "**案B**\n",
        "\n",
        "パズルとしては81マスのうち30マス程度がすでに埋まっている．空マス数をKとすると，その解候補は 9<sup>K</sup> だけあると考えることもできる．\n",
        "\n",
        "**案C**\n",
        "\n",
        "3条件を満たす解の数は多いとはいえ有限である．ナンバープレースの問題の解答はふつう1通りである．つまり，もし全ての解をメモリ上に展開しておけるなら，ナンバープレースの数字が埋まっている部分の情報を検索キーとして，単なる検索で解を瞬時に得ることができると考えられる．\n",
        "\n",
        "しかし，この実現には相当な（非現実的な）量のメモリ（空間計算量）が必要となる．英語版wikipediaを参照すること．\n"
      ]
    },
    {
      "cell_type": "markdown",
      "metadata": {
        "id": "5QkNub1bXi1l"
      },
      "source": [
        "# バックトラック法\n",
        "\n",
        "ナンバープレースをバックトラック法で解くアルゴリズムは実は深さ優先探索そのままである．解の条件を確認する部分こそ新しく考える必要があるが，あとはこれまでの Knight tour や N Queens とほぼ同じアルゴリズムで実現できる．\n",
        "\n",
        "１つの空マスについて入れるべき数字を吟味するとき，満たすべき条件は3つある．すなわち，その列の拘束条件，その行の拘束条件，それにその空マスを含む3x3小ブロックの拘束条件である．\n",
        "\n",
        "つまり，全ての空マスについて，順にこの3条件が満たすような数字を埋めて行けばよい．\n",
        "\n",
        "ここで注意すべきは，（人間向けの解法と違って）どの空マスから処理するかは全く気にしていないことである．バックトラック法とはいえ，そのベースは全解探索法なので，最終的には全ての空マスを処理する以上，プログラムとして空マスを並べ替えることに意味はない．一応，手を付ける空マスの順序を（人間のするように適宜）入れ替えると，最初の解が見つかるまでの時間が早くなる可能性はある．しかし，あとで実行してみればわかるが，この程度の問題であれば，そのようなことにプログラミングの労力をかけるだけ無駄である．\n",
        "\n",
        "\n",
        "\n",
        "\n",
        "\n"
      ]
    },
    {
      "cell_type": "markdown",
      "metadata": {
        "id": "Zy3sSTwQ7Nn9"
      },
      "source": [
        "# バックトラック法によるCプログラム\n",
        "\n",
        "**目標**\n",
        "\n",
        "ナンバープレースの解をバックトラック法で解くプログラムを作成する．問題はテキストファイル（出題ファイル）で与えるものとする．\n",
        "\n",
        "**説明**\n",
        "\n",
        "これまでの他のバックトラックプログラムと同じく，深さ優先探索を用いる．その実装には再帰呼出を用いる．\n",
        "\n",
        "バックトラック法では，再帰呼出によって先の探索に進んだ後で，戻ってきたときに現状復元する必要があることに注意する．\n",
        "\n",
        "105-108行が行き順における書き込みに相当し，112-115行が戻り時の原状復元に相当する．\n",
        "\n",
        "出題ファイル読み込み時に空セルを celltoexamine[] 配列に記録しておく．解探索時にはこの空セルを順に処理していく．\n",
        "\n",
        "**コード**\n",
        "\n",
        "x (x=1, ... , 9) の縦方向制約を示すのにcheckx[x][], 同じく y の横方向制約を示すのにchecky[y][]を用いる．3x3小ブロックbの制約を表すのにcheckb[b][]を用いる．ここで，b = (x / 3) + (y / 3) * 3 とする．\n",
        "\n",
        "**備考**\n",
        "\n",
        "実行実時間の計測に，Unix (Linux) でよく使われる gettimeofday()関数を利用している．\n",
        "参考にされたい．gettimeofday()関数は現実世界の時刻を取得するので，timeコマンドのように内訳を調べることはできない．  \n",
        "人間相手のアルゴリズムの説明で見られるような，どのセルから解くべきか，という議論は本アルゴリズムでは全く不要である．celltoexamine[]には空セルが端から順に格納されているだけで，その順で処理を行う．\n",
        "\n",
        "\n"
      ]
    },
    {
      "cell_type": "code",
      "metadata": {
        "id": "Eo2CM8EqZi97"
      },
      "source": [
        "%%writefile NumberPlace_J.c \n",
        "// Number Place, a.k.a. Sudoku by backtrack method\n",
        "//  kameda[at]ccs.tsukuba.ac.jp, 2020.\n",
        "#include <stdio.h>\n",
        "#include <stdlib.h> // atoi()\n",
        "#include <string.h> // strcmp()\n",
        "#include <sys/time.h> // gettimeofday()\n",
        "\n",
        "#define N 9 // Sudoku board size\n",
        "\n",
        "typedef struct {int x; int y;} vec2i; // 2D coordinates\n",
        "\n",
        "int board[N][N];       // 0 ... undertermined, 1-9 ... answers\n",
        "int numlockedcell = 0; // number of locked cells (given as the problem)\n",
        "\n",
        "vec2i celltoexamine[N*N]; // List of empty cells in the problem\n",
        "int numemptycell = 0;     // Number of empty cells. numlockedcell + numemptycell = N * N\n",
        "\n",
        "// three kinds of the conditions. binary representation.\n",
        "int checkx[N][N]; // if figure f(1-9) has been already used on line-x,  checky[x][f-1] = 1, 0 otherwise\n",
        "int checky[N][N]; // if figure f(1-9) has been already used on line-y,  checky[y][f-1] = 1, 0 otherwise\n",
        "int checkb[N][N]; // if figure f(1-9) has been already used on block-b, checkb[b][f-1] = 1, 0 otherwise\n",
        "\n",
        "int num_answer = 0; // Number of the answers (expected to be 1 for Sudoku)\n",
        "int verboselevel = 0; // Verbose level (0 minimum, 1 show answers, 2 show boards)\n",
        "\n",
        "\n",
        "// Return blok-ID from (x,y) coord\n",
        "int xy2b(int x, int y) {\n",
        "    return ((x / 3) + (y / 3) * 3); // Based on the C language syntax\n",
        "}\n",
        "\n",
        "// Show board\n",
        "//   Empty cell is denoted by '.'\n",
        "void showboard(void){\n",
        "    vec2i pt;\n",
        "\n",
        "    for (pt.y = 0; pt.y < N; pt.y++) {\n",
        "        printf(\"%d \", pt.y);\n",
        "        for (pt.x = 0; pt.x < N; pt.x++) {\n",
        "            if (board[pt.x][pt.y] != 0) {\n",
        "                printf(\"%d\", board[pt.x][pt.y]);\n",
        "            } else {\n",
        "                printf(\".\");\n",
        "            }\n",
        "        }\n",
        "        printf(\"\\n\");\n",
        "    }\n",
        "    return ;\n",
        "}\n",
        "\n",
        "//  Read the board (the problem) info from a file.\n",
        "//    If \"-\" is specified, read the dat from stdin.\n",
        "int readboard(char *filename){\n",
        "    FILE *fd;\n",
        "    vec2i pt;\n",
        "\t\n",
        "    if (strcmp(filename, \"-\") == 0) {\n",
        "        fd = stdin;\n",
        "    } else if ((fd = fopen(filename, \"r\")) == NULL) {\n",
        "        printf(\"readboard: cannnot open %s\\n\", filename);\n",
        "        return -1;\n",
        "    }\n",
        "\n",
        "    for (pt.y = 0; pt.y < N; pt.y++) {\n",
        "        for (pt.x = 0; pt.x < N; pt.x++) {\n",
        "            if (fscanf(fd, \"%d\", &(board[pt.x][pt.y])) != 1) {\n",
        "                printf(\"readboard: error at (x,y) = (%d, %d)\\n\", pt.x, pt.y);\n",
        "\t            return -2;\n",
        "            }\n",
        "            if (board[pt.x][pt.y] < 1 || board[pt.x][pt.y] > 9) {\n",
        "                board[pt.x][pt.y] = 0; // cleaning up to zero / foolproof\n",
        "            }\n",
        "            if (board[pt.x][pt.y] == 0) {\n",
        "                celltoexamine[numemptycell++] = pt; // Append this empty cell to the list\n",
        "            }\n",
        "        }\n",
        "    }\n",
        "    fclose(fd);\n",
        "\n",
        "    showboard();\n",
        "    printf(\"readboard: empty cells = %d\\n\", numemptycell);\n",
        "\n",
        "    return 0;\n",
        "}\n",
        "\n",
        "// Find the right figure (1-9) at pos-th empty cells\n",
        "void sudokuonestep(int pos){\n",
        "    int x, y, b;\n",
        "    int f;\n",
        "\t\n",
        "    // Reach to an answer\n",
        "    if (pos == numemptycell) {\n",
        "        if (verboselevel >= 1) printf(\"======== %d ========\\n\", num_answer);\n",
        "        if (verboselevel >= 2) showboard();\n",
        "        num_answer++;\n",
        "        return ;\n",
        "    }\n",
        "\t\n",
        "    x = celltoexamine[pos].x;\n",
        "    y = celltoexamine[pos].y;\n",
        "    b = xy2b(x, y);\n",
        "    for (f = 1; f <= N; f++) {\n",
        "        if (checkx[x][f-1] == 0 && checky[y][f-1] == 0 && checkb[b][f-1] == 0) {\n",
        "            checkx[x][f-1] = 1; // Mark\n",
        "            checky[y][f-1] = 1; // Mark\n",
        "            checkb[b][f-1] = 1; // Mark\n",
        "            board[x][y] = f;    // Record\n",
        "            \n",
        "            sudokuonestep(pos+1);\n",
        "            \n",
        "            checkx[x][f-1] = 0; // Unmark\n",
        "            checky[y][f-1] = 0; // Unmark\n",
        "            checkb[b][f-1] = 0; // Unmark\n",
        "            board[x][y] = 0;    // Clear\n",
        "        }\n",
        "    }\n",
        "}\n",
        "\n",
        "// Main function\n",
        "int main(int argc, char *argv[]){\n",
        "    int r = 0;\n",
        "    int i, f;\n",
        "    int x, y, b;\n",
        "    struct timeval ts, te;\n",
        "\n",
        "    // examine options\n",
        "    if (argc != 3) {\n",
        "        printf(\"This command needs Problem-file and Verbose-Level.\\n\");\n",
        "        printf(\"Please set a problem file and verbose level (0 or upper).\\n\");\n",
        "        return -1;\n",
        "    }\n",
        "\n",
        "    // Read file\n",
        "    if ((r = readboard(argv[1])) != 0) {\n",
        "        printf(\"Error: file reading status : %d\\n\", r);\n",
        "        return r;\n",
        "    }\n",
        "\n",
        "    // verbose level\n",
        "    verboselevel = atoi(argv[2]);\n",
        "\n",
        "    // Initialization of the conditions\n",
        "    for (i = 0; i < N; i++) {\n",
        "        for (f = 0; f < N; f++) {\n",
        "            checkx[i][f] = checky[i][f] = checkb[i][f] = 0;\n",
        "        }\n",
        "    }\n",
        "\n",
        "    // Mark the figures that are set in the problem\n",
        "    for (x = 0; x < N; x++) {\n",
        "        for (y = 0; y < N; y++) {\n",
        "            if (board[x][y] != 0) {\n",
        "                b = xy2b(x, y);\n",
        "\t            checkx[x][board[x][y]-1] = checky[y][board[x][y]-1] = checkb[b][board[x][y]-1] = 1;\n",
        "            }\n",
        "        }\n",
        "    }\n",
        "\n",
        "    // Go\t\n",
        "    gettimeofday(&ts, NULL);\n",
        "    sudokuonestep(0);\n",
        "    gettimeofday(&te, NULL);\n",
        "\n",
        "    // Show the result\n",
        "    printf(\"===================\\n\");\n",
        "    printf(\"Number of the answers: %d\\n\", num_answer);\n",
        "    printf(\"Time = %.6f [sec]\\n\", (float)(te.tv_sec - ts.tv_sec) + (te.tv_usec - ts.tv_usec) / 1000000.0);\n",
        "\n",
        "    return 0;\n",
        "}\n"
      ],
      "execution_count": null,
      "outputs": []
    },
    {
      "cell_type": "markdown",
      "metadata": {
        "id": "zhechXUNbvva"
      },
      "source": [
        "\n",
        "コンパイルしてエラーが無いことを確認．"
      ]
    },
    {
      "cell_type": "code",
      "metadata": {
        "id": "UcFL-3AR8XSu"
      },
      "source": [
        "!gcc -Wall -o NumberPlace_J NumberPlace_J.c"
      ],
      "execution_count": null,
      "outputs": []
    },
    {
      "cell_type": "markdown",
      "metadata": {
        "id": "CxBI4UbEcB9L"
      },
      "source": [
        "下記の実行をする前に，１つ下の「出題ファイル」にて p5252.txt を保存しておくこと．\n",
        "p5252は [出題サイト SUDOKU](https://www.sudoku.name/index-jp.php) によれば「上級++」で相当に難しい問題のようである．（私はsudokuを全くしないので実際に人間としてどう感じるべきなのかわからない）  \n",
        "（※2022年現在でp5252の出題にアクセスできなくなっているようである．試してみたければ各自で好きなように用意せよ）  \n",
        "\n",
        "現在のCPUならば，実行時間は1秒かからない．knight tourなどと違って，最適化をかける必要すら感じない実行速度である．\n",
        "\n",
        "ここで注意してほしいのは，このプログラムでは空マスを左上から順に埋めているだけであるということである．人間には耐えられないアルゴリズムであるが，プログラムの記述としてはむしろこのほうが簡潔で扱いやすい．（もし人間向けの解法を実装したら相当に面倒くさいプログラムになる上に，必ず解に辿り着ける保証を与えられるかどうかも怪しいであろう）"
      ]
    },
    {
      "cell_type": "code",
      "metadata": {
        "id": "O3zzVD4tcA3h"
      },
      "source": [
        "!time ./NumberPlace_J p5252.txt 2"
      ],
      "execution_count": null,
      "outputs": []
    },
    {
      "cell_type": "markdown",
      "metadata": {
        "id": "7SftM1ngT1g0"
      },
      "source": [
        "# 出題ファイル\n",
        "\n",
        "出題ファイルはテキストで用意する．\n",
        "基本的には，初めの9行に9個の数字をおいて問題を記述する．\n",
        "空欄は 0 で表現する．数字の間のスペースは1つ以上なら幾つでもよい．\n",
        "\n",
        "なお，NumberPlace_j プログラムを読めば分かるが，実はfscanfで81個の整数を読んでいるだけで，それを終えた時点で読み込みは終了する．言い換えれば，途中に空行があってもかまわないし，改行があってもなくても構わない．81個の数字のあとに何を書いても問題の読み込みには関係ない．\n"
      ]
    },
    {
      "cell_type": "code",
      "metadata": {
        "id": "RC7kg3C3Uf4F"
      },
      "source": [
        "%%writefile p5252.txt\n",
        "0 2 0  9 0 0  0 0 6\n",
        "1 0 0  0 0 0  0 9 0\n",
        "0 0 8  0 0 7  0 0 0\n",
        "\n",
        "5 0 0  0 0 0  7 0 0\n",
        "0 0 7  8 0 0  1 0 0\n",
        "0 0 9  4 0 0  0 0 2\n",
        "\n",
        "0 0 0  2 0 0  4 0 0\n",
        "0 6 0  0 0 0  0 0 3\n",
        "3 0 0  0 0 5  0 8 0\n",
        "\n",
        "Taken from:\n",
        "http://www.sudoku.name/puzzles/jp/5252/f0fcf351df4eb6786e9bb6fc4e2dee02#5252\n",
        "上級++ (非常に難しい問題のようである)\n",
        "\n",
        "実行結果例\n",
        "\n",
        "0 .2.9....6\n",
        "1 1......9.\n",
        "2 ..8..7...\n",
        "3 5.....7..\n",
        "4 ..78..1..\n",
        "5 ..94....2\n",
        "6 ...2..4..\n",
        "7 .6......3\n",
        "8 3....5.8.\n",
        "readboard: empty cells = 59\n",
        "======== 0 ========\n",
        "0 423918576\n",
        "1 176523894\n",
        "2 958647321\n",
        "3 512396748\n",
        "4 647852139\n",
        "5 839471652\n",
        "6 781239465\n",
        "7 265784913\n",
        "8 394165287\n",
        "===================\n",
        "Number of the answers: 1\n",
        "Time = 0.029590 [sec]\n"
      ],
      "execution_count": null,
      "outputs": []
    },
    {
      "cell_type": "code",
      "metadata": {
        "id": "Htl1W1qYZ02K"
      },
      "source": [
        "%%writefile p22833.txt\n",
        "0 0 0  0 9 0  0 0 0\n",
        "0 8 9  0 0 0  3 4 0\n",
        "7 0 0  8 0 3  0 0 2\n",
        "\n",
        "0 1 0  0 0 0  0 6 0\n",
        "0 0 8  3 0 4  7 0 0\n",
        "0 7 0  0 0 0  0 5 0\n",
        "\n",
        "8 0 0  5 0 7  0 0 1\n",
        "0 5 4  0 0 0  9 7 0\n",
        "0 0 0  0 2 0  0 0 0\n",
        "\n",
        "https://www.sudoku.name/puzzles/jp/22833/42fe880812925e520249e808937738d2\n",
        "#22833\n",
        "上級++\n"
      ],
      "execution_count": null,
      "outputs": []
    },
    {
      "cell_type": "code",
      "metadata": {
        "id": "zAwMOW5oe3Qp"
      },
      "source": [
        "%%writefile p22833-cut1.txt\n",
        "0 0 0  0 9 0  0 0 0\n",
        "0 8 9  0 0 0  3 4 0\n",
        "7 0 0  8 0 3  0 0 2\n",
        "\n",
        "0 1 0  0 0 0  0 6 0\n",
        "0 0 8  3 0 4  7 0 0\n",
        "0 7 0  0 0 0  0 5 0\n",
        "\n",
        "8 0 0  5 0 7  0 0 0\n",
        "0 5 4  0 0 0  9 7 0\n",
        "0 0 0  0 2 0  0 0 0\n",
        "\n",
        "https://www.sudoku.name/puzzles/jp/22833/42fe880812925e520249e808937738d2\n",
        "#22833 \n",
        "上級++\n",
        "(9,7)の\"1\"を削除\n"
      ],
      "execution_count": null,
      "outputs": []
    },
    {
      "cell_type": "code",
      "metadata": {
        "id": "d4RVnNt6jiKR"
      },
      "source": [
        "%%writefile p22833-cut4.txt\n",
        "0 0 0  0 9 0  0 0 0\n",
        "0 8 9  0 0 0  3 4 0\n",
        "7 0 0  8 0 3  0 0 2\n",
        "\n",
        "0 1 0  0 0 0  0 6 0\n",
        "0 0 8  3 0 4  7 0 0\n",
        "0 7 0  0 0 0  0 5 0\n",
        "\n",
        "0 0 0  0 0 0  0 0 0\n",
        "0 5 4  0 0 0  9 7 0\n",
        "0 0 0  0 2 0  0 0 0\n",
        "\n",
        "https://www.sudoku.name/puzzles/jp/22833/42fe880812925e520249e808937738d2\n",
        "#22833 \n",
        "上級++\n",
        "7行目を全て(数字4つ)削除\n"
      ],
      "execution_count": null,
      "outputs": []
    },
    {
      "cell_type": "markdown",
      "metadata": {
        "id": "tXuPlrtFcfhc"
      },
      "source": [
        "あとは同じように自分で解かせてみたい問題に対応する出題ファイルを用意して実行してみるとよい．  \n",
        "条件を緩めてみると（0を増やしてみると）解数が1でなくなることも確認出来るであろう．  \n",
        "\n",
        "試してみればわかることだが，実行時間は初級か上級かに全く関係ない．"
      ]
    },
    {
      "cell_type": "markdown",
      "metadata": {
        "id": "DY_MbwoPf_9h"
      },
      "source": [
        "# 節末課題\n",
        "\n",
        "1. 問題の難易度と実行時間との関係  \n",
        "出題サイト等に行って，人間向けの難易度の異なる問題を3つ以上用意し，それぞれで実行時間を計測して，問題の難易度と実行時間との関係を考察せよ．そのような関係になる理由についても考察すること．\n",
        "\n",
        "\n",
        "2. 解の一意性  \n",
        "幾つかの出題において，指定されていた数字を1つ以上消去することで，解が一意でなくなるかどうか確認してみよ．NumberPlace_Jプログラムを利用して試行する際に，最初のうちは verbose level を 0 にすること．(指数爆発する可能性がある．)\n",
        "\n",
        "\n",
        "3. 関数xy2b()  \n",
        "NumberPlace_Jプログラムにおいて，空マス(x,y)の属する 3x3小ブロックの ID が xy2b()によって決定できることを解説せよ．C言語における演算の特性にも言及すること．必要があれば適宜図示すること．\n",
        "\n",
        "\n",
        "4. X-SUDOKU  \n",
        "2本の対角線においても，1-9の数字を1つずつ配置するという制約を増やした問題をX-SUDOKUという．例えば [こういうサイト](http://www.sudoku-space.com/x-sudoku/) などに出題がある．これを解くプログラムを作成せよ．\n",
        "\n",
        "\n",
        "\n"
      ]
    },
    {
      "cell_type": "markdown",
      "metadata": {
        "id": "cZ-1SycnqxVa"
      },
      "source": [
        "# 出典\n",
        "\n",
        "筑波大学工学システム学類  \n",
        "データ構造とアルゴリズム  \n",
        "担当：亀田能成  \n",
        "2022/05/31 文言修正  \n",
        "2022/04/13 フォルダ構成を更新  \n",
        "2021/06/09 初版"
      ]
    }
  ]
}